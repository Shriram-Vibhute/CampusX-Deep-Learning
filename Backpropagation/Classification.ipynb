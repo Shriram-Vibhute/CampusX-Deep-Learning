{
  "cells": [
    {
      "cell_type": "markdown",
      "metadata": {
        "id": "frLURIVRzrHq"
      },
      "source": [
        "> <div>\n",
        "> <h1>Deep Learning Backpropagation Algorithm for Classification with Sigmoid Activation</h1>\n",
        "\n",
        "> <h2>1. Forward Pass</h2>\n",
        "> <ul>\n",
        "    <li><strong>Input Layer:</strong> Pass input data through the network.</li>\n",
        "    <li><strong>Hidden Layers:</strong> For each neuron, compute the weighted sum of inputs and apply the sigmoid activation function.\n",
        "        <ul>\n",
        "            <li><strong>Sigmoid Function:</strong> <code>&sigma;(z) = 1 / (1 + e<sup>-z</sup>)</code></li>\n",
        "        </ul>\n",
        "    </li>\n",
        "    <li><strong>Output Layer:</strong> Compute the final output using the same process.</li>\n",
        "</ul>\n",
        "\n",
        "> <h2>2. Calculate Loss</h2>\n",
        "> <ul>\n",
        "    <li>Compare the network’s output to the true label using a loss function.\n",
        "        <ul>\n",
        "            <li><strong>Cross-Entropy Loss:</strong>\n",
        "                <p>\n",
        "                    <code>L = - &sum; (y log(&#x3B7;) + (1 - y) log(1 - &#x3B7;))</code>\n",
        "                </p>\n",
        "                where <code>&#x3B7;</code> is the predicted output and <code>y</code> is the true label.\n",
        "            </li>\n",
        "        </ul>\n",
        "    </li>\n",
        "</ul>\n",
        "\n",
        "> <h2>3. Backward Pass (Backpropagation)</h2>\n",
        "> <ul>\n",
        "    <li><strong>Output Layer:</strong>\n",
        "        <ul>\n",
        "            <li>Compute the gradient of the loss with respect to the output (error term).</li>\n",
        "            <li>For sigmoid activation, adjust the error term using the derivative of the sigmoid function.\n",
        "                <ul>\n",
        "                    <li><strong>Derivative of Sigmoid:</strong> <code>&sigma;'<sub>sigmoid</sub>(z) = &sigma;(z) &times; (1 - &sigma;(z))</code></li>\n",
        "                </ul>\n",
        "            </li>\n",
        "        </ul>\n",
        "    </li>\n",
        "    <li><strong>Hidden Layers:</strong>\n",
        "        <ul>\n",
        "            <li>Propagate the error backward through the network.</li>\n",
        "            <li>Compute gradients of the loss with respect to each weight using the error term and the derivative of the sigmoid function.</li>\n",
        "            <li>Update weights using the computed gradients.</li>\n",
        "        </ul>\n",
        "    </li>\n",
        "</ul>\n",
        "\n",
        "> <h2>4. Update Weights</h2>\n",
        "> <ul>\n",
        "    <li>Adjust the weights of the neurons using the gradients calculated during backpropagation.\n",
        "        <ul>\n",
        "            <li><strong>Gradient Descent Update Rule:</strong>\n",
        "                <p>\n",
        "                    <code>w = w - &eta; &times; (&#x2202;L / &#x2202;w)</code>\n",
        "                </p>\n",
        "                where <code>&eta;</code> is the learning rate.\n",
        "            </li>\n",
        "        </ul>\n",
        "    </li>\n",
        "</ul>\n",
        "\n",
        "> <h2>5. Repeat</h2>\n",
        "> <ul>\n",
        "    <li>Iterate through the forward pass, loss calculation, backpropagation, and weight update steps for multiple epochs until the network performs satisfactorily.</li>\n",
        "</ul>\n",
        "</div>"
      ]
    },
    {
      "cell_type": "code",
      "execution_count": 1,
      "metadata": {
        "id": "crmMwy4KUcwj"
      },
      "outputs": [],
      "source": [
        "import numpy as np\n",
        "import pandas as pd"
      ]
    },
    {
      "cell_type": "code",
      "execution_count": 2,
      "metadata": {
        "colab": {
          "base_uri": "https://localhost:8080/",
          "height": 174
        },
        "id": "37QuC5SUUk6x",
        "outputId": "813c4f87-8769-4347-9431-2c3e4d105b44"
      },
      "outputs": [
        {
          "data": {
            "application/vnd.google.colaboratory.intrinsic+json": {
              "summary": "{\n  \"name\": \"df\",\n  \"rows\": 4,\n  \"fields\": [\n    {\n      \"column\": \"cgpa\",\n      \"properties\": {\n        \"dtype\": \"number\",\n        \"std\": 1,\n        \"min\": 5,\n        \"max\": 8,\n        \"num_unique_values\": 4,\n        \"samples\": [\n          7,\n          5,\n          8\n        ],\n        \"semantic_type\": \"\",\n        \"description\": \"\"\n      }\n    },\n    {\n      \"column\": \"profile_score\",\n      \"properties\": {\n        \"dtype\": \"number\",\n        \"std\": 2,\n        \"min\": 5,\n        \"max\": 10,\n        \"num_unique_values\": 4,\n        \"samples\": [\n          9,\n          5,\n          8\n        ],\n        \"semantic_type\": \"\",\n        \"description\": \"\"\n      }\n    },\n    {\n      \"column\": \"placed\",\n      \"properties\": {\n        \"dtype\": \"number\",\n        \"std\": 0,\n        \"min\": 0,\n        \"max\": 1,\n        \"num_unique_values\": 2,\n        \"samples\": [\n          0,\n          1\n        ],\n        \"semantic_type\": \"\",\n        \"description\": \"\"\n      }\n    }\n  ]\n}",
              "type": "dataframe",
              "variable_name": "df"
            },
            "text/html": [
              "\n",
              "  <div id=\"df-5e9b4246-002a-4dc4-9b90-65b9e74ce6fd\" class=\"colab-df-container\">\n",
              "    <div>\n",
              "<style scoped>\n",
              "    .dataframe tbody tr th:only-of-type {\n",
              "        vertical-align: middle;\n",
              "    }\n",
              "\n",
              "    .dataframe tbody tr th {\n",
              "        vertical-align: top;\n",
              "    }\n",
              "\n",
              "    .dataframe thead th {\n",
              "        text-align: right;\n",
              "    }\n",
              "</style>\n",
              "<table border=\"1\" class=\"dataframe\">\n",
              "  <thead>\n",
              "    <tr style=\"text-align: right;\">\n",
              "      <th></th>\n",
              "      <th>cgpa</th>\n",
              "      <th>profile_score</th>\n",
              "      <th>placed</th>\n",
              "    </tr>\n",
              "  </thead>\n",
              "  <tbody>\n",
              "    <tr>\n",
              "      <th>0</th>\n",
              "      <td>8</td>\n",
              "      <td>8</td>\n",
              "      <td>1</td>\n",
              "    </tr>\n",
              "    <tr>\n",
              "      <th>1</th>\n",
              "      <td>7</td>\n",
              "      <td>9</td>\n",
              "      <td>1</td>\n",
              "    </tr>\n",
              "    <tr>\n",
              "      <th>2</th>\n",
              "      <td>6</td>\n",
              "      <td>10</td>\n",
              "      <td>0</td>\n",
              "    </tr>\n",
              "    <tr>\n",
              "      <th>3</th>\n",
              "      <td>5</td>\n",
              "      <td>5</td>\n",
              "      <td>0</td>\n",
              "    </tr>\n",
              "  </tbody>\n",
              "</table>\n",
              "</div>\n",
              "    <div class=\"colab-df-buttons\">\n",
              "\n",
              "  <div class=\"colab-df-container\">\n",
              "    <button class=\"colab-df-convert\" onclick=\"convertToInteractive('df-5e9b4246-002a-4dc4-9b90-65b9e74ce6fd')\"\n",
              "            title=\"Convert this dataframe to an interactive table.\"\n",
              "            style=\"display:none;\">\n",
              "\n",
              "  <svg xmlns=\"http://www.w3.org/2000/svg\" height=\"24px\" viewBox=\"0 -960 960 960\">\n",
              "    <path d=\"M120-120v-720h720v720H120Zm60-500h600v-160H180v160Zm220 220h160v-160H400v160Zm0 220h160v-160H400v160ZM180-400h160v-160H180v160Zm440 0h160v-160H620v160ZM180-180h160v-160H180v160Zm440 0h160v-160H620v160Z\"/>\n",
              "  </svg>\n",
              "    </button>\n",
              "\n",
              "  <style>\n",
              "    .colab-df-container {\n",
              "      display:flex;\n",
              "      gap: 12px;\n",
              "    }\n",
              "\n",
              "    .colab-df-convert {\n",
              "      background-color: #E8F0FE;\n",
              "      border: none;\n",
              "      border-radius: 50%;\n",
              "      cursor: pointer;\n",
              "      display: none;\n",
              "      fill: #1967D2;\n",
              "      height: 32px;\n",
              "      padding: 0 0 0 0;\n",
              "      width: 32px;\n",
              "    }\n",
              "\n",
              "    .colab-df-convert:hover {\n",
              "      background-color: #E2EBFA;\n",
              "      box-shadow: 0px 1px 2px rgba(60, 64, 67, 0.3), 0px 1px 3px 1px rgba(60, 64, 67, 0.15);\n",
              "      fill: #174EA6;\n",
              "    }\n",
              "\n",
              "    .colab-df-buttons div {\n",
              "      margin-bottom: 4px;\n",
              "    }\n",
              "\n",
              "    [theme=dark] .colab-df-convert {\n",
              "      background-color: #3B4455;\n",
              "      fill: #D2E3FC;\n",
              "    }\n",
              "\n",
              "    [theme=dark] .colab-df-convert:hover {\n",
              "      background-color: #434B5C;\n",
              "      box-shadow: 0px 1px 3px 1px rgba(0, 0, 0, 0.15);\n",
              "      filter: drop-shadow(0px 1px 2px rgba(0, 0, 0, 0.3));\n",
              "      fill: #FFFFFF;\n",
              "    }\n",
              "  </style>\n",
              "\n",
              "    <script>\n",
              "      const buttonEl =\n",
              "        document.querySelector('#df-5e9b4246-002a-4dc4-9b90-65b9e74ce6fd button.colab-df-convert');\n",
              "      buttonEl.style.display =\n",
              "        google.colab.kernel.accessAllowed ? 'block' : 'none';\n",
              "\n",
              "      async function convertToInteractive(key) {\n",
              "        const element = document.querySelector('#df-5e9b4246-002a-4dc4-9b90-65b9e74ce6fd');\n",
              "        const dataTable =\n",
              "          await google.colab.kernel.invokeFunction('convertToInteractive',\n",
              "                                                    [key], {});\n",
              "        if (!dataTable) return;\n",
              "\n",
              "        const docLinkHtml = 'Like what you see? Visit the ' +\n",
              "          '<a target=\"_blank\" href=https://colab.research.google.com/notebooks/data_table.ipynb>data table notebook</a>'\n",
              "          + ' to learn more about interactive tables.';\n",
              "        element.innerHTML = '';\n",
              "        dataTable['output_type'] = 'display_data';\n",
              "        await google.colab.output.renderOutput(dataTable, element);\n",
              "        const docLink = document.createElement('div');\n",
              "        docLink.innerHTML = docLinkHtml;\n",
              "        element.appendChild(docLink);\n",
              "      }\n",
              "    </script>\n",
              "  </div>\n",
              "\n",
              "\n",
              "<div id=\"df-40ab05ab-5b6b-433c-ac6b-0e6c374012c1\">\n",
              "  <button class=\"colab-df-quickchart\" onclick=\"quickchart('df-40ab05ab-5b6b-433c-ac6b-0e6c374012c1')\"\n",
              "            title=\"Suggest charts\"\n",
              "            style=\"display:none;\">\n",
              "\n",
              "<svg xmlns=\"http://www.w3.org/2000/svg\" height=\"24px\"viewBox=\"0 0 24 24\"\n",
              "     width=\"24px\">\n",
              "    <g>\n",
              "        <path d=\"M19 3H5c-1.1 0-2 .9-2 2v14c0 1.1.9 2 2 2h14c1.1 0 2-.9 2-2V5c0-1.1-.9-2-2-2zM9 17H7v-7h2v7zm4 0h-2V7h2v10zm4 0h-2v-4h2v4z\"/>\n",
              "    </g>\n",
              "</svg>\n",
              "  </button>\n",
              "\n",
              "<style>\n",
              "  .colab-df-quickchart {\n",
              "      --bg-color: #E8F0FE;\n",
              "      --fill-color: #1967D2;\n",
              "      --hover-bg-color: #E2EBFA;\n",
              "      --hover-fill-color: #174EA6;\n",
              "      --disabled-fill-color: #AAA;\n",
              "      --disabled-bg-color: #DDD;\n",
              "  }\n",
              "\n",
              "  [theme=dark] .colab-df-quickchart {\n",
              "      --bg-color: #3B4455;\n",
              "      --fill-color: #D2E3FC;\n",
              "      --hover-bg-color: #434B5C;\n",
              "      --hover-fill-color: #FFFFFF;\n",
              "      --disabled-bg-color: #3B4455;\n",
              "      --disabled-fill-color: #666;\n",
              "  }\n",
              "\n",
              "  .colab-df-quickchart {\n",
              "    background-color: var(--bg-color);\n",
              "    border: none;\n",
              "    border-radius: 50%;\n",
              "    cursor: pointer;\n",
              "    display: none;\n",
              "    fill: var(--fill-color);\n",
              "    height: 32px;\n",
              "    padding: 0;\n",
              "    width: 32px;\n",
              "  }\n",
              "\n",
              "  .colab-df-quickchart:hover {\n",
              "    background-color: var(--hover-bg-color);\n",
              "    box-shadow: 0 1px 2px rgba(60, 64, 67, 0.3), 0 1px 3px 1px rgba(60, 64, 67, 0.15);\n",
              "    fill: var(--button-hover-fill-color);\n",
              "  }\n",
              "\n",
              "  .colab-df-quickchart-complete:disabled,\n",
              "  .colab-df-quickchart-complete:disabled:hover {\n",
              "    background-color: var(--disabled-bg-color);\n",
              "    fill: var(--disabled-fill-color);\n",
              "    box-shadow: none;\n",
              "  }\n",
              "\n",
              "  .colab-df-spinner {\n",
              "    border: 2px solid var(--fill-color);\n",
              "    border-color: transparent;\n",
              "    border-bottom-color: var(--fill-color);\n",
              "    animation:\n",
              "      spin 1s steps(1) infinite;\n",
              "  }\n",
              "\n",
              "  @keyframes spin {\n",
              "    0% {\n",
              "      border-color: transparent;\n",
              "      border-bottom-color: var(--fill-color);\n",
              "      border-left-color: var(--fill-color);\n",
              "    }\n",
              "    20% {\n",
              "      border-color: transparent;\n",
              "      border-left-color: var(--fill-color);\n",
              "      border-top-color: var(--fill-color);\n",
              "    }\n",
              "    30% {\n",
              "      border-color: transparent;\n",
              "      border-left-color: var(--fill-color);\n",
              "      border-top-color: var(--fill-color);\n",
              "      border-right-color: var(--fill-color);\n",
              "    }\n",
              "    40% {\n",
              "      border-color: transparent;\n",
              "      border-right-color: var(--fill-color);\n",
              "      border-top-color: var(--fill-color);\n",
              "    }\n",
              "    60% {\n",
              "      border-color: transparent;\n",
              "      border-right-color: var(--fill-color);\n",
              "    }\n",
              "    80% {\n",
              "      border-color: transparent;\n",
              "      border-right-color: var(--fill-color);\n",
              "      border-bottom-color: var(--fill-color);\n",
              "    }\n",
              "    90% {\n",
              "      border-color: transparent;\n",
              "      border-bottom-color: var(--fill-color);\n",
              "    }\n",
              "  }\n",
              "</style>\n",
              "\n",
              "  <script>\n",
              "    async function quickchart(key) {\n",
              "      const quickchartButtonEl =\n",
              "        document.querySelector('#' + key + ' button');\n",
              "      quickchartButtonEl.disabled = true;  // To prevent multiple clicks.\n",
              "      quickchartButtonEl.classList.add('colab-df-spinner');\n",
              "      try {\n",
              "        const charts = await google.colab.kernel.invokeFunction(\n",
              "            'suggestCharts', [key], {});\n",
              "      } catch (error) {\n",
              "        console.error('Error during call to suggestCharts:', error);\n",
              "      }\n",
              "      quickchartButtonEl.classList.remove('colab-df-spinner');\n",
              "      quickchartButtonEl.classList.add('colab-df-quickchart-complete');\n",
              "    }\n",
              "    (() => {\n",
              "      let quickchartButtonEl =\n",
              "        document.querySelector('#df-40ab05ab-5b6b-433c-ac6b-0e6c374012c1 button');\n",
              "      quickchartButtonEl.style.display =\n",
              "        google.colab.kernel.accessAllowed ? 'block' : 'none';\n",
              "    })();\n",
              "  </script>\n",
              "</div>\n",
              "\n",
              "    </div>\n",
              "  </div>\n"
            ],
            "text/plain": [
              "   cgpa  profile_score  placed\n",
              "0     8              8       1\n",
              "1     7              9       1\n",
              "2     6             10       0\n",
              "3     5              5       0"
            ]
          },
          "execution_count": 2,
          "metadata": {},
          "output_type": "execute_result"
        }
      ],
      "source": [
        "# DataFrame\n",
        "df = pd.DataFrame([[8,8,1],[7,9,1],[6,10,0],[5,5,0]], columns=['cgpa', 'profile_score', 'placed'])\n",
        "df.head()"
      ]
    },
    {
      "cell_type": "markdown",
      "metadata": {
        "id": "fdaNmubr4KNr"
      },
      "source": [
        "> <div class = \"markdown-google-sans\"><h1>Function 1 - Parameter Initialization</h1>"
      ]
    },
    {
      "cell_type": "code",
      "execution_count": 3,
      "metadata": {
        "id": "nsayhpBhUvvR"
      },
      "outputs": [],
      "source": [
        "def initialize_parameters(ann_dim):\n",
        "    \"\"\"\n",
        "    Initialize parameters for the neural network.\n",
        "\n",
        "    Parameters:\n",
        "    ann_dim (list of int): Dimensions of the layers in the neural network, where each element represents the number of neurons in that layer.\n",
        "\n",
        "    Returns:\n",
        "    parameters (dict): A dictionary containing weights ('w') and biases ('b') for each layer.\n",
        "    \"\"\"\n",
        "    parameters = {}\n",
        "    # Iterate through each layer except the input layer\n",
        "    for i in range(1, len(ann_dim)):\n",
        "        # Initialize weights for layer i\n",
        "        # Weights are initialized with small values, here 0.1\n",
        "        parameters['w' + str(i)] = np.ones((ann_dim[i-1], ann_dim[i])) * 0.1\n",
        "        # Initialize biases for layer i\n",
        "        # Biases are initialized to zero\n",
        "        parameters['b' + str(i)] = np.zeros((1, ann_dim[i]))\n",
        "\n",
        "    return parameters\n"
      ]
    },
    {
      "cell_type": "code",
      "execution_count": 4,
      "metadata": {
        "colab": {
          "base_uri": "https://localhost:8080/"
        },
        "id": "3HGCDI_GV8A_",
        "outputId": "5e20588c-1291-4d53-97ff-8b698104df52"
      },
      "outputs": [
        {
          "data": {
            "text/plain": [
              "{'w1': array([[0.1, 0.1],\n",
              "        [0.1, 0.1]]),\n",
              " 'b1': array([[0., 0.]]),\n",
              " 'w2': array([[0.1],\n",
              "        [0.1]]),\n",
              " 'b2': array([[0.]])}"
            ]
          },
          "execution_count": 4,
          "metadata": {},
          "output_type": "execute_result"
        }
      ],
      "source": [
        "parameters = initialize_parameters([2,2,1])\n",
        "parameters"
      ]
    },
    {
      "cell_type": "markdown",
      "metadata": {
        "id": "j4648nyW5P5M"
      },
      "source": [
        "> <div class = \"markdown-google-sans\"><h1>Function 2 - Forward Propagation</h1>"
      ]
    },
    {
      "cell_type": "code",
      "execution_count": 5,
      "metadata": {
        "id": "ln3uYqyrV-mY"
      },
      "outputs": [],
      "source": [
        "def forward_propagation(X, parameters):\n",
        "    \"\"\"\n",
        "    Perform forward propagation through the neural network.\n",
        "\n",
        "    Parameters:\n",
        "    X (numpy array): Input data of shape (m, n_x), where m is the number of examples and n_x is the number of features.\n",
        "    parameters (dict): Dictionary containing weights ('w') and biases ('b') for each layer.\n",
        "\n",
        "    Returns:\n",
        "    A (numpy array): Output of the neural network after forward propagation.\n",
        "    A_prev (numpy array): Output of the previous layer (before the last layer) to be used in backpropagation.\n",
        "    \"\"\"\n",
        "    # Set initial activation to the input data\n",
        "    A = X\n",
        "    # Calculate the number of layers in the network\n",
        "    n = len(parameters) // 2\n",
        "\n",
        "    # Iterate through each layer of the network\n",
        "    for i in range(1, n + 1):\n",
        "        # Save the activation from the previous layer\n",
        "        A_prev = A\n",
        "        # Compute the linear part of the activation for layer i\n",
        "        z = np.dot(A_prev, parameters['w'+str(i)]) + parameters['b'+str(i)]\n",
        "        # Apply sigmoid activation function\n",
        "        y_hat = 1 / (1 + np.exp(-z))\n",
        "        # Set the current layer's activation to be used in the next iteration\n",
        "        A = y_hat\n",
        "\n",
        "    # Return the final output and the activation from the previous layer\n",
        "    return A, A_prev"
      ]
    },
    {
      "cell_type": "code",
      "execution_count": 7,
      "metadata": {
        "colab": {
          "base_uri": "https://localhost:8080/"
        },
        "id": "sC-Rv5YqYslw",
        "outputId": "0e96f00b-58ff-4f84-a704-6a6f7b7ab77b"
      },
      "outputs": [
        {
          "name": "stdout",
          "output_type": "stream",
          "text": [
            "[[0.54150519]]\n",
            "[[0.83201839 0.83201839]]\n"
          ]
        }
      ],
      "source": [
        "A, A_prev = forward_propagation(df.iloc[:1, :-1], parameters)\n",
        "print(A)\n",
        "print(A_prev)"
      ]
    },
    {
      "cell_type": "markdown",
      "metadata": {
        "id": "ABaaAN8Z58Pa"
      },
      "source": [
        "> <div class = \"markdown-google-sans\"><h1>Function 3 - Updating Weights & Biases</h1>"
      ]
    },
    {
      "cell_type": "code",
      "execution_count": 57,
      "metadata": {
        "id": "6VlCJ604Y85F"
      },
      "outputs": [],
      "source": [
        "def update_parameters(parameters,y,y_hat,A1,X):\n",
        "    # Layer 2 - Parameters\n",
        "    parameters['w2'][0][0] += (0.01 * (y - y_hat)*A1[0][0])\n",
        "    parameters['w2'][1][0] += (0.01 * (y - y_hat)*A1[0][1])\n",
        "    parameters['b2'][0][0] += (0.01 * (y - y_hat))\n",
        "\n",
        "    # Layer 1 - Parameters\n",
        "    parameters['w1'][0][0] += (0.01 * (y - y_hat)*parameters['w2'][0][0]*A1[0][0]*(1-A1[0][0])*X[0][0])\n",
        "    parameters['w1'][0][1] += (0.01 * (y - y_hat)*parameters['w2'][0][0]*A1[0][0]*(1-A1[0][0])*X[0][1])\n",
        "    parameters['b1'][0][0] += (0.01 * (y - y_hat)*parameters['w2'][0][0]*A1[0][0]*(1-A1[0][0]))\n",
        "\n",
        "    parameters['w1'][1][0] += (0.01 * (y - y_hat)*parameters['w2'][1][0]*A1[0][1]*(1-A1[0][1])*X[0][0])\n",
        "    parameters['w1'][1][1] += (0.01 * (y - y_hat)*parameters['w2'][1][0]*A1[0][1]*(1-A1[0][1])*X[0][1])\n",
        "    parameters['b1'][0][1] += (0.01 * (y - y_hat)*parameters['w2'][1][0]*A1[0][1]*(1-A1[0][1]))"
      ]
    },
    {
      "cell_type": "code",
      "execution_count": 9,
      "metadata": {
        "id": "u8kKVs_ie_iQ"
      },
      "outputs": [],
      "source": [
        "update_parameters(parameters, df['placed'][0], A[0][0], A_prev, np.array(df.iloc[:1, :-1]))"
      ]
    },
    {
      "cell_type": "code",
      "execution_count": 10,
      "metadata": {
        "colab": {
          "base_uri": "https://localhost:8080/"
        },
        "id": "x27BUph8i5rx",
        "outputId": "08ea5bc1-1d60-43ad-df9a-e0be541e9bef"
      },
      "outputs": [
        {
          "data": {
            "text/plain": [
              "{'w1': array([[0.1005322, 0.1005322],\n",
              "        [0.1005322, 0.1005322]]),\n",
              " 'b1': array([[6.65255093e-05, 6.65255093e-05]]),\n",
              " 'w2': array([[0.10381476],\n",
              "        [0.10381476]]),\n",
              " 'b2': array([[0.00458495]])}"
            ]
          },
          "execution_count": 10,
          "metadata": {},
          "output_type": "execute_result"
        }
      ],
      "source": [
        "parameters"
      ]
    },
    {
      "cell_type": "code",
      "execution_count": 58,
      "metadata": {
        "colab": {
          "base_uri": "https://localhost:8080/"
        },
        "id": "P8MjEQ4Sh4RY",
        "outputId": "fc25e175-7abb-474b-dde8-c15e2e5854c0"
      },
      "outputs": [
        {
          "name": "stdout",
          "output_type": "stream",
          "text": [
            "0.6995793814769459\n",
            "0.699403737188172\n",
            "0.6992368341080972\n",
            "0.6990782345893999\n",
            "0.6989275235481633\n",
            "0.6987843072461035\n",
            "0.6986482121420933\n",
            "0.6985188838088761\n",
            "0.6983959859111069\n",
            "0.6982791992410817\n"
          ]
        }
      ],
      "source": [
        "# Initialize parameters with the specified dimensions [2,2,1]\n",
        "parameters = initialize_parameters([2,2,1])\n",
        "\n",
        "# Iterate for a specified number of epochs\n",
        "for i in range(10):\n",
        "    # Initialize a list to keep track of the loss for each iteration\n",
        "    loss = []\n",
        "\n",
        "    # Iterate through each sample in the dataset\n",
        "    for j in range(df.shape[0]):\n",
        "        # Forward Propagation: Compute the output 'A' and the previous layer's output 'A_prev'\n",
        "        A, A_prev = forward_propagation(df.iloc[:j+1, :-1], parameters)\n",
        "\n",
        "        # Compute the loss for the current sample\n",
        "        # Loss is the squared difference between the actual value and the predicted value\n",
        "        l = - (df['placed'][j]*np.log(A[0][0])) - ((1-df['placed'][j])*np.log(1-A[0][0]))\n",
        "        # Append the loss value to the loss list\n",
        "        loss.append(l)\n",
        "\n",
        "        # Update the parameters based on the current sample\n",
        "        # Uses the actual value, the predicted value, the previous layer's output, and the input features\n",
        "        update_parameters(parameters, df['placed'][j], A[0][0], A_prev, np.array(df.iloc[:j+1, :-1]))\n",
        "\n",
        "    # Print the mean loss for the current epoch\n",
        "    print(np.array(loss).mean())"
      ]
    },
    {
      "cell_type": "markdown",
      "metadata": {
        "id": "pD1hs_-67PZT"
      },
      "source": [
        "<hr>"
      ]
    },
    {
      "cell_type": "markdown",
      "metadata": {
        "id": "ygYYGndf7UyT"
      },
      "source": [
        "> <div class = \"markdown-google-sans\"><h1>Backpropogation using Tensorflow - Keras</h1>"
      ]
    },
    {
      "cell_type": "code",
      "execution_count": 13,
      "metadata": {
        "id": "N90PyxXT7QL5"
      },
      "outputs": [],
      "source": [
        "import tensorflow as tf\n",
        "from tensorflow import keras\n",
        "from keras import Sequential\n",
        "from keras.layers import InputLayer, Dense"
      ]
    },
    {
      "cell_type": "code",
      "execution_count": 47,
      "metadata": {
        "colab": {
          "base_uri": "https://localhost:8080/",
          "height": 255
        },
        "id": "5KM-Yk4Y9DAv",
        "outputId": "da828603-71a4-412c-f108-a0b3b5af6d1b"
      },
      "outputs": [
        {
          "name": "stderr",
          "output_type": "stream",
          "text": [
            "/usr/local/lib/python3.10/dist-packages/keras/src/layers/core/dense.py:87: UserWarning: Do not pass an `input_shape`/`input_dim` argument to a layer. When using Sequential models, prefer using an `Input(shape)` object as the first layer in the model instead.\n",
            "  super().__init__(activity_regularizer=activity_regularizer, **kwargs)\n"
          ]
        },
        {
          "data": {
            "text/html": [
              "<pre style=\"white-space:pre;overflow-x:auto;line-height:normal;font-family:Menlo,'DejaVu Sans Mono',consolas,'Courier New',monospace\"><span style=\"font-weight: bold\">Model: \"sequential_9\"</span>\n",
              "</pre>\n"
            ],
            "text/plain": [
              "\u001b[1mModel: \"sequential_9\"\u001b[0m\n"
            ]
          },
          "metadata": {},
          "output_type": "display_data"
        },
        {
          "data": {
            "text/html": [
              "<pre style=\"white-space:pre;overflow-x:auto;line-height:normal;font-family:Menlo,'DejaVu Sans Mono',consolas,'Courier New',monospace\">┏━━━━━━━━━━━━━━━━━━━━━━━━━━━━━━━━━━━━━━┳━━━━━━━━━━━━━━━━━━━━━━━━━━━━━┳━━━━━━━━━━━━━━━━━┓\n",
              "┃<span style=\"font-weight: bold\"> Layer (type)                         </span>┃<span style=\"font-weight: bold\"> Output Shape                </span>┃<span style=\"font-weight: bold\">         Param # </span>┃\n",
              "┡━━━━━━━━━━━━━━━━━━━━━━━━━━━━━━━━━━━━━━╇━━━━━━━━━━━━━━━━━━━━━━━━━━━━━╇━━━━━━━━━━━━━━━━━┩\n",
              "│ dense_10 (<span style=\"color: #0087ff; text-decoration-color: #0087ff\">Dense</span>)                     │ (<span style=\"color: #00d7ff; text-decoration-color: #00d7ff\">None</span>, <span style=\"color: #00af00; text-decoration-color: #00af00\">2</span>)                   │               <span style=\"color: #00af00; text-decoration-color: #00af00\">6</span> │\n",
              "├──────────────────────────────────────┼─────────────────────────────┼─────────────────┤\n",
              "│ dense_11 (<span style=\"color: #0087ff; text-decoration-color: #0087ff\">Dense</span>)                     │ (<span style=\"color: #00d7ff; text-decoration-color: #00d7ff\">None</span>, <span style=\"color: #00af00; text-decoration-color: #00af00\">1</span>)                   │               <span style=\"color: #00af00; text-decoration-color: #00af00\">3</span> │\n",
              "└──────────────────────────────────────┴─────────────────────────────┴─────────────────┘\n",
              "</pre>\n"
            ],
            "text/plain": [
              "┏━━━━━━━━━━━━━━━━━━━━━━━━━━━━━━━━━━━━━━┳━━━━━━━━━━━━━━━━━━━━━━━━━━━━━┳━━━━━━━━━━━━━━━━━┓\n",
              "┃\u001b[1m \u001b[0m\u001b[1mLayer (type)                        \u001b[0m\u001b[1m \u001b[0m┃\u001b[1m \u001b[0m\u001b[1mOutput Shape               \u001b[0m\u001b[1m \u001b[0m┃\u001b[1m \u001b[0m\u001b[1m        Param #\u001b[0m\u001b[1m \u001b[0m┃\n",
              "┡━━━━━━━━━━━━━━━━━━━━━━━━━━━━━━━━━━━━━━╇━━━━━━━━━━━━━━━━━━━━━━━━━━━━━╇━━━━━━━━━━━━━━━━━┩\n",
              "│ dense_10 (\u001b[38;5;33mDense\u001b[0m)                     │ (\u001b[38;5;45mNone\u001b[0m, \u001b[38;5;34m2\u001b[0m)                   │               \u001b[38;5;34m6\u001b[0m │\n",
              "├──────────────────────────────────────┼─────────────────────────────┼─────────────────┤\n",
              "│ dense_11 (\u001b[38;5;33mDense\u001b[0m)                     │ (\u001b[38;5;45mNone\u001b[0m, \u001b[38;5;34m1\u001b[0m)                   │               \u001b[38;5;34m3\u001b[0m │\n",
              "└──────────────────────────────────────┴─────────────────────────────┴─────────────────┘\n"
            ]
          },
          "metadata": {},
          "output_type": "display_data"
        },
        {
          "data": {
            "text/html": [
              "<pre style=\"white-space:pre;overflow-x:auto;line-height:normal;font-family:Menlo,'DejaVu Sans Mono',consolas,'Courier New',monospace\"><span style=\"font-weight: bold\"> Total params: </span><span style=\"color: #00af00; text-decoration-color: #00af00\">9</span> (36.00 B)\n",
              "</pre>\n"
            ],
            "text/plain": [
              "\u001b[1m Total params: \u001b[0m\u001b[38;5;34m9\u001b[0m (36.00 B)\n"
            ]
          },
          "metadata": {},
          "output_type": "display_data"
        },
        {
          "data": {
            "text/html": [
              "<pre style=\"white-space:pre;overflow-x:auto;line-height:normal;font-family:Menlo,'DejaVu Sans Mono',consolas,'Courier New',monospace\"><span style=\"font-weight: bold\"> Trainable params: </span><span style=\"color: #00af00; text-decoration-color: #00af00\">9</span> (36.00 B)\n",
              "</pre>\n"
            ],
            "text/plain": [
              "\u001b[1m Trainable params: \u001b[0m\u001b[38;5;34m9\u001b[0m (36.00 B)\n"
            ]
          },
          "metadata": {},
          "output_type": "display_data"
        },
        {
          "data": {
            "text/html": [
              "<pre style=\"white-space:pre;overflow-x:auto;line-height:normal;font-family:Menlo,'DejaVu Sans Mono',consolas,'Courier New',monospace\"><span style=\"font-weight: bold\"> Non-trainable params: </span><span style=\"color: #00af00; text-decoration-color: #00af00\">0</span> (0.00 B)\n",
              "</pre>\n"
            ],
            "text/plain": [
              "\u001b[1m Non-trainable params: \u001b[0m\u001b[38;5;34m0\u001b[0m (0.00 B)\n"
            ]
          },
          "metadata": {},
          "output_type": "display_data"
        }
      ],
      "source": [
        "model = Sequential()\n",
        "\n",
        "# model.add(InputLayer(shape = (1, 2)))\n",
        "model.add(Dense(2, activation = 'sigmoid', input_dim = 2))\n",
        "model.add(Dense(1, activation = 'sigmoid'))\n",
        "\n",
        "model.summary()"
      ]
    },
    {
      "cell_type": "code",
      "execution_count": 48,
      "metadata": {
        "colab": {
          "base_uri": "https://localhost:8080/"
        },
        "id": "d9dU8rxs9vZ0",
        "outputId": "65649af6-f0c3-478d-c488-a1bdb2d3c21d"
      },
      "outputs": [
        {
          "data": {
            "text/plain": [
              "[array([[ 0.12149262,  1.0377032 ],\n",
              "        [-0.3761341 ,  0.33478928]], dtype=float32),\n",
              " array([0., 0.], dtype=float32),\n",
              " array([[0.70839894],\n",
              "        [0.6414827 ]], dtype=float32),\n",
              " array([0.], dtype=float32)]"
            ]
          },
          "execution_count": 48,
          "metadata": {},
          "output_type": "execute_result"
        }
      ],
      "source": [
        "model.get_weights()"
      ]
    },
    {
      "cell_type": "code",
      "execution_count": 49,
      "metadata": {
        "id": "w6nZRT2H98or"
      },
      "outputs": [],
      "source": [
        "# Define weights and biases manually\n",
        "weights_for_layer1 = np.array([[0.1, 0.1], [0.1, 0.1]])\n",
        "biases_for_layer1 = np.array([0.1, 0.1])\n",
        "weights_for_layer2 = np.array([[0.1], [0.1]])\n",
        "biases_for_layer2 = np.array([0.1])\n",
        "\n",
        "# Combine them into the correct format\n",
        "parameters_format = [weights_for_layer1, biases_for_layer1, weights_for_layer2, biases_for_layer2]\n",
        "\n",
        "# Set the weights\n",
        "model.set_weights(parameters_format)"
      ]
    },
    {
      "cell_type": "code",
      "execution_count": 50,
      "metadata": {
        "colab": {
          "base_uri": "https://localhost:8080/"
        },
        "id": "hX3-yRAN-aJQ",
        "outputId": "26fac245-ec12-4471-9bdb-51c6d8fbb30b"
      },
      "outputs": [
        {
          "data": {
            "text/plain": [
              "[array([[0.1, 0.1],\n",
              "        [0.1, 0.1]], dtype=float32),\n",
              " array([0.1, 0.1], dtype=float32),\n",
              " array([[0.1],\n",
              "        [0.1]], dtype=float32),\n",
              " array([0.1], dtype=float32)]"
            ]
          },
          "execution_count": 50,
          "metadata": {},
          "output_type": "execute_result"
        }
      ],
      "source": [
        "model.get_weights()"
      ]
    },
    {
      "cell_type": "code",
      "execution_count": 51,
      "metadata": {
        "id": "CBAD8BMZ_tJ8"
      },
      "outputs": [],
      "source": [
        "model.compile(optimizer=keras.optimizers.Adam(learning_rate=0.01), loss='binary_crossentropy', metrics=['accuracy'])"
      ]
    },
    {
      "cell_type": "code",
      "execution_count": 52,
      "metadata": {
        "colab": {
          "base_uri": "https://localhost:8080/"
        },
        "id": "pZ-e8Ml7AHax",
        "outputId": "49dc14bf-af91-421d-c849-0c303bcbf5b6"
      },
      "outputs": [
        {
          "name": "stdout",
          "output_type": "stream",
          "text": [
            "Epoch 1/10\n",
            "\u001b[1m1/1\u001b[0m \u001b[32m━━━━━━━━━━━━━━━━━━━━\u001b[0m\u001b[37m\u001b[0m \u001b[1m1s\u001b[0m 1s/step - accuracy: 0.5000 - loss: 0.6995\n",
            "Epoch 2/10\n",
            "\u001b[1m1/1\u001b[0m \u001b[32m━━━━━━━━━━━━━━━━━━━━\u001b[0m\u001b[37m\u001b[0m \u001b[1m0s\u001b[0m 39ms/step - accuracy: 0.5000 - loss: 0.6979\n",
            "Epoch 3/10\n",
            "\u001b[1m1/1\u001b[0m \u001b[32m━━━━━━━━━━━━━━━━━━━━\u001b[0m\u001b[37m\u001b[0m \u001b[1m0s\u001b[0m 56ms/step - accuracy: 0.5000 - loss: 0.6966\n",
            "Epoch 4/10\n",
            "\u001b[1m1/1\u001b[0m \u001b[32m━━━━━━━━━━━━━━━━━━━━\u001b[0m\u001b[37m\u001b[0m \u001b[1m0s\u001b[0m 56ms/step - accuracy: 0.5000 - loss: 0.6955\n",
            "Epoch 5/10\n",
            "\u001b[1m1/1\u001b[0m \u001b[32m━━━━━━━━━━━━━━━━━━━━\u001b[0m\u001b[37m\u001b[0m \u001b[1m0s\u001b[0m 33ms/step - accuracy: 0.5000 - loss: 0.6947\n",
            "Epoch 6/10\n",
            "\u001b[1m1/1\u001b[0m \u001b[32m━━━━━━━━━━━━━━━━━━━━\u001b[0m\u001b[37m\u001b[0m \u001b[1m0s\u001b[0m 34ms/step - accuracy: 0.5000 - loss: 0.6941\n",
            "Epoch 7/10\n",
            "\u001b[1m1/1\u001b[0m \u001b[32m━━━━━━━━━━━━━━━━━━━━\u001b[0m\u001b[37m\u001b[0m \u001b[1m0s\u001b[0m 57ms/step - accuracy: 0.5000 - loss: 0.6936\n",
            "Epoch 8/10\n",
            "\u001b[1m1/1\u001b[0m \u001b[32m━━━━━━━━━━━━━━━━━━━━\u001b[0m\u001b[37m\u001b[0m \u001b[1m0s\u001b[0m 43ms/step - accuracy: 0.5000 - loss: 0.6933\n",
            "Epoch 9/10\n",
            "\u001b[1m1/1\u001b[0m \u001b[32m━━━━━━━━━━━━━━━━━━━━\u001b[0m\u001b[37m\u001b[0m \u001b[1m0s\u001b[0m 56ms/step - accuracy: 0.5000 - loss: 0.6931\n",
            "Epoch 10/10\n",
            "\u001b[1m1/1\u001b[0m \u001b[32m━━━━━━━━━━━━━━━━━━━━\u001b[0m\u001b[37m\u001b[0m \u001b[1m0s\u001b[0m 57ms/step - accuracy: 0.5000 - loss: 0.6930\n"
          ]
        },
        {
          "data": {
            "text/plain": [
              "<keras.src.callbacks.history.History at 0x7caad97d1030>"
            ]
          },
          "execution_count": 52,
          "metadata": {},
          "output_type": "execute_result"
        }
      ],
      "source": [
        "model.fit(df.iloc[:, :-1].values, df['placed'].values, epochs = 10)"
      ]
    },
    {
      "cell_type": "markdown",
      "metadata": {
        "id": "Ch8vsd-DHmsF"
      },
      "source": [
        "> <div class = \"markdown-google-sans\">Since the loss values of our custom backpropagation model and the Keras backpropagation model are identical, this verifies that our model implementation is correct.\"</div>"
      ]
    }
  ],
  "metadata": {
    "colab": {
      "provenance": []
    },
    "kernelspec": {
      "display_name": "Python 3",
      "name": "python3"
    },
    "language_info": {
      "name": "python"
    }
  },
  "nbformat": 4,
  "nbformat_minor": 0
}
