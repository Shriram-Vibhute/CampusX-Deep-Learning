{
  "nbformat": 4,
  "nbformat_minor": 0,
  "metadata": {
    "colab": {
      "provenance": []
    },
    "kernelspec": {
      "name": "python3",
      "display_name": "Python 3"
    },
    "language_info": {
      "name": "python"
    }
  },
  "cells": [
    {
      "cell_type": "code",
      "execution_count": 1,
      "metadata": {
        "id": "pO-xTYNjS8TI"
      },
      "outputs": [],
      "source": [
        "import torch\n",
        "from torch import nn"
      ]
    },
    {
      "cell_type": "code",
      "source": [
        "class Model(nn.Module): # nn.Module is a base class who provides us all the functionalities require to build a neural network\n",
        "    def __init__(self, num_features) -> None:\n",
        "        super().__init__()\n",
        "        self.linear = nn.Linear(in_features = num_features, out_features = 1)\n",
        "        self.sigmoid = nn.Sigmoid()\n",
        "\n",
        "    def forward(self, features):\n",
        "        out = self.linear(features)\n",
        "        out = self.sigmoid(out)\n",
        "\n",
        "        return out"
      ],
      "metadata": {
        "id": "wFT8L0zJTMeI"
      },
      "execution_count": 5,
      "outputs": []
    },
    {
      "cell_type": "code",
      "source": [
        "# Create a dummy dataset\n",
        "features = torch.rand(10, 5)\n",
        "\n",
        "# Model Object\n",
        "model = Model(features.shape[1])\n",
        "\n",
        "# Forward pass\n",
        "model(features) # PyTorch Recommendation - They used magic method call() so that you directly call the object"
      ],
      "metadata": {
        "colab": {
          "base_uri": "https://localhost:8080/",
          "height": 0
        },
        "id": "HSK8VLxIUdrM",
        "outputId": "eb7e8649-57a3-490d-d576-d52bbec3e41a"
      },
      "execution_count": 6,
      "outputs": [
        {
          "output_type": "execute_result",
          "data": {
            "text/plain": [
              "tensor([[0.4318],\n",
              "        [0.5803],\n",
              "        [0.5552],\n",
              "        [0.5255],\n",
              "        [0.5589],\n",
              "        [0.5218],\n",
              "        [0.5715],\n",
              "        [0.5706],\n",
              "        [0.5005],\n",
              "        [0.5541]], grad_fn=<SigmoidBackward0>)"
            ]
          },
          "metadata": {},
          "execution_count": 6
        }
      ]
    },
    {
      "cell_type": "code",
      "source": [
        "model.linear.weight"
      ],
      "metadata": {
        "colab": {
          "base_uri": "https://localhost:8080/",
          "height": 0
        },
        "id": "6m5XkqLIVH1D",
        "outputId": "494f6718-161c-4694-8685-d86f697cc342"
      },
      "execution_count": 7,
      "outputs": [
        {
          "output_type": "execute_result",
          "data": {
            "text/plain": [
              "Parameter containing:\n",
              "tensor([[-0.3228, -0.0238,  0.4340, -0.3447,  0.4361]], requires_grad=True)"
            ]
          },
          "metadata": {},
          "execution_count": 7
        }
      ]
    },
    {
      "cell_type": "code",
      "source": [
        "model.linear.bias"
      ],
      "metadata": {
        "colab": {
          "base_uri": "https://localhost:8080/",
          "height": 0
        },
        "id": "ETYSh1hHVhF0",
        "outputId": "d9342df6-05f1-4c86-aa76-ba142b1cc1f4"
      },
      "execution_count": 8,
      "outputs": [
        {
          "output_type": "execute_result",
          "data": {
            "text/plain": [
              "Parameter containing:\n",
              "tensor([0.1397], requires_grad=True)"
            ]
          },
          "metadata": {},
          "execution_count": 8
        }
      ]
    },
    {
      "cell_type": "code",
      "source": [
        "!pip install torchinfo"
      ],
      "metadata": {
        "colab": {
          "base_uri": "https://localhost:8080/",
          "height": 0
        },
        "id": "UDKD6KApVlaf",
        "outputId": "d983e651-9c12-4469-a6d1-aa116dbeabea"
      },
      "execution_count": 9,
      "outputs": [
        {
          "output_type": "stream",
          "name": "stdout",
          "text": [
            "Collecting torchinfo\n",
            "  Downloading torchinfo-1.8.0-py3-none-any.whl.metadata (21 kB)\n",
            "Downloading torchinfo-1.8.0-py3-none-any.whl (23 kB)\n",
            "Installing collected packages: torchinfo\n",
            "Successfully installed torchinfo-1.8.0\n"
          ]
        }
      ]
    },
    {
      "cell_type": "code",
      "source": [
        "from torchinfo import summary\n",
        "summary(model, input_size = features.shape)"
      ],
      "metadata": {
        "colab": {
          "base_uri": "https://localhost:8080/",
          "height": 0
        },
        "id": "KgQSpCPTVr3o",
        "outputId": "02143d2e-6939-4a7c-b82a-72b6c12afe9a"
      },
      "execution_count": 10,
      "outputs": [
        {
          "output_type": "execute_result",
          "data": {
            "text/plain": [
              "==========================================================================================\n",
              "Layer (type:depth-idx)                   Output Shape              Param #\n",
              "==========================================================================================\n",
              "Model                                    [10, 1]                   --\n",
              "├─Linear: 1-1                            [10, 1]                   6\n",
              "├─Sigmoid: 1-2                           [10, 1]                   --\n",
              "==========================================================================================\n",
              "Total params: 6\n",
              "Trainable params: 6\n",
              "Non-trainable params: 0\n",
              "Total mult-adds (Units.MEGABYTES): 0.00\n",
              "==========================================================================================\n",
              "Input size (MB): 0.00\n",
              "Forward/backward pass size (MB): 0.00\n",
              "Params size (MB): 0.00\n",
              "Estimated Total Size (MB): 0.00\n",
              "=========================================================================================="
            ]
          },
          "metadata": {},
          "execution_count": 10
        }
      ]
    },
    {
      "cell_type": "code",
      "source": [
        "class Model(nn.Module): # nn.Module is a base class who provides us all the functionalities require to build a neural network\n",
        "    def __init__(self, num_features) -> None:\n",
        "        super().__init__()\n",
        "        self.linear1 = nn.Linear(in_features = num_features, out_features = 3) # Hidden layer 1\n",
        "        self.relu = nn.ReLU()\n",
        "\n",
        "        self.linear2 = nn.Linear(in_features = 3, out_features = 1) # Hidden layer 2\n",
        "        self.sigmoid = nn.Sigmoid()\n",
        "\n",
        "    def forward(self, features):\n",
        "        out = self.linear1(features)\n",
        "        out = self.relu(out)\n",
        "        out = self.linear2(out)\n",
        "        out = self.sigmoid(out)\n",
        "\n",
        "        return out"
      ],
      "metadata": {
        "id": "eAkbkhqyWCWY"
      },
      "execution_count": 13,
      "outputs": []
    },
    {
      "cell_type": "code",
      "source": [
        "# Create a dummy dataset\n",
        "features = torch.rand(10, 5)\n",
        "\n",
        "# Model Object\n",
        "model = Model(features.shape[1])\n",
        "\n",
        "# Forward pass\n",
        "model(features) # PyTorch Recommendation - They used magic method call() so that you directly call the object"
      ],
      "metadata": {
        "colab": {
          "base_uri": "https://localhost:8080/",
          "height": 0
        },
        "id": "2iWOLUIVXCed",
        "outputId": "d2cd3380-a684-4b34-bd2b-46fb2891b7c0"
      },
      "execution_count": 14,
      "outputs": [
        {
          "output_type": "execute_result",
          "data": {
            "text/plain": [
              "tensor([[0.6363],\n",
              "        [0.6155],\n",
              "        [0.6366],\n",
              "        [0.6249],\n",
              "        [0.6352],\n",
              "        [0.6111],\n",
              "        [0.6219],\n",
              "        [0.6194],\n",
              "        [0.6269],\n",
              "        [0.6177]], grad_fn=<SigmoidBackward0>)"
            ]
          },
          "metadata": {},
          "execution_count": 14
        }
      ]
    },
    {
      "cell_type": "code",
      "source": [
        "summary(model, input_size = features.shape)"
      ],
      "metadata": {
        "colab": {
          "base_uri": "https://localhost:8080/",
          "height": 0
        },
        "id": "WhfqMcuMXFM4",
        "outputId": "f8286371-c003-4aa9-89f2-bb00437ca0a7"
      },
      "execution_count": 15,
      "outputs": [
        {
          "output_type": "execute_result",
          "data": {
            "text/plain": [
              "==========================================================================================\n",
              "Layer (type:depth-idx)                   Output Shape              Param #\n",
              "==========================================================================================\n",
              "Model                                    [10, 1]                   --\n",
              "├─Linear: 1-1                            [10, 3]                   18\n",
              "├─ReLU: 1-2                              [10, 3]                   --\n",
              "├─Linear: 1-3                            [10, 1]                   4\n",
              "├─Sigmoid: 1-4                           [10, 1]                   --\n",
              "==========================================================================================\n",
              "Total params: 22\n",
              "Trainable params: 22\n",
              "Non-trainable params: 0\n",
              "Total mult-adds (Units.MEGABYTES): 0.00\n",
              "==========================================================================================\n",
              "Input size (MB): 0.00\n",
              "Forward/backward pass size (MB): 0.00\n",
              "Params size (MB): 0.00\n",
              "Estimated Total Size (MB): 0.00\n",
              "=========================================================================================="
            ]
          },
          "metadata": {},
          "execution_count": 15
        }
      ]
    },
    {
      "cell_type": "code",
      "source": [
        "class Model(nn.Module): # nn.Module is a base class who provides us all the functionalities require to build a neural network\n",
        "    def __init__(self, num_features) -> None:\n",
        "        super().__init__()\n",
        "        self.network = nn.Sequential(\n",
        "            nn.Linear(in_features = num_features, out_features = 3), # Hidden layer 1\n",
        "            nn.ReLU(),\n",
        "\n",
        "            nn.Linear(in_features = 3, out_features = 1), # Hidden layer 2\n",
        "            nn.Sigmoid()\n",
        "        )\n",
        "\n",
        "    def forward(self, features):\n",
        "        out = self.network(features)\n",
        "        return out"
      ],
      "metadata": {
        "id": "AH8se034XPkE"
      },
      "execution_count": 16,
      "outputs": []
    },
    {
      "cell_type": "code",
      "source": [
        "# Create a dummy dataset\n",
        "features = torch.rand(10, 5)\n",
        "\n",
        "# Model Object\n",
        "model = Model(features.shape[1])\n",
        "\n",
        "# Forward pass\n",
        "model(features) # PyTorch Recommendation - They used magic method call() so that you directly call the object"
      ],
      "metadata": {
        "colab": {
          "base_uri": "https://localhost:8080/",
          "height": 0
        },
        "id": "6j95E0o4YlWM",
        "outputId": "6bfef730-f989-4af9-b856-ebe3ee0e8d47"
      },
      "execution_count": 17,
      "outputs": [
        {
          "output_type": "execute_result",
          "data": {
            "text/plain": [
              "tensor([[0.6145],\n",
              "        [0.6110],\n",
              "        [0.6145],\n",
              "        [0.6145],\n",
              "        [0.6145],\n",
              "        [0.6029],\n",
              "        [0.6145],\n",
              "        [0.6145],\n",
              "        [0.6145],\n",
              "        [0.6145]], grad_fn=<SigmoidBackward0>)"
            ]
          },
          "metadata": {},
          "execution_count": 17
        }
      ]
    },
    {
      "cell_type": "code",
      "source": [
        "summary(model, input_size = features.shape)"
      ],
      "metadata": {
        "colab": {
          "base_uri": "https://localhost:8080/",
          "height": 0
        },
        "id": "TnDwI7QHYqf8",
        "outputId": "8df32de5-329b-49de-d1a8-b2f50787dcf8"
      },
      "execution_count": 18,
      "outputs": [
        {
          "output_type": "execute_result",
          "data": {
            "text/plain": [
              "==========================================================================================\n",
              "Layer (type:depth-idx)                   Output Shape              Param #\n",
              "==========================================================================================\n",
              "Model                                    [10, 1]                   --\n",
              "├─Sequential: 1-1                        [10, 1]                   --\n",
              "│    └─Linear: 2-1                       [10, 3]                   18\n",
              "│    └─ReLU: 2-2                         [10, 3]                   --\n",
              "│    └─Linear: 2-3                       [10, 1]                   4\n",
              "│    └─Sigmoid: 2-4                      [10, 1]                   --\n",
              "==========================================================================================\n",
              "Total params: 22\n",
              "Trainable params: 22\n",
              "Non-trainable params: 0\n",
              "Total mult-adds (Units.MEGABYTES): 0.00\n",
              "==========================================================================================\n",
              "Input size (MB): 0.00\n",
              "Forward/backward pass size (MB): 0.00\n",
              "Params size (MB): 0.00\n",
              "Estimated Total Size (MB): 0.00\n",
              "=========================================================================================="
            ]
          },
          "metadata": {},
          "execution_count": 18
        }
      ]
    },
    {
      "cell_type": "code",
      "source": [
        "class MyANN(nn.Module):\n",
        "    def __init__(self, input_shape) -> None:\n",
        "        super().__init__()\n",
        "\n",
        "        # Building NN\n",
        "        network = nn.Sequential(\n",
        "            nn.Linear(in_features=input_shape[1], out_features=2),\n",
        "            nn.ReLU(),\n",
        "            nn.Linear(in_features=2, out_features=1),\n",
        "            nn.ReLU(),\n",
        "            nn.Linear(in_features=2, out_features=1),\n",
        "            nn.Sigmoid(),\n",
        "        )\n",
        "\n",
        "    def forward(self, features):\n",
        "        out = self.network(features)\n",
        "        return out"
      ],
      "metadata": {
        "id": "t0ifPzB6Ys4k"
      },
      "execution_count": null,
      "outputs": []
    },
    {
      "cell_type": "code",
      "source": [
        "# Parameters\n",
        "learning_rate = 0.1\n",
        "epochs = 25"
      ],
      "metadata": {
        "id": "nabL9e3Mc8Jx"
      },
      "execution_count": null,
      "outputs": []
    },
    {
      "cell_type": "code",
      "source": [
        "# Defining loss functions\n",
        "loss_function = nn.BCELoss()"
      ],
      "metadata": {
        "id": "0tJBVpdidE8N"
      },
      "execution_count": null,
      "outputs": []
    },
    {
      "cell_type": "code",
      "source": [
        "# Creating Model\n",
        "model = MyANN(input_shape=features.shape)\n",
        "\n",
        "# Define Optimizer\n",
        "optimizer = torch.optim.SGD(model.parameters(), lr = learning_rate) # model.parameters() is an iterator who iterate over all the model parameters\n",
        "\n",
        "# Define loop\n",
        "for i in range(epochs):\n",
        "    # Forward pass\n",
        "    y_pred = model(features)\n",
        "\n",
        "    # Calculating loss\n",
        "    loss = loss_function(y_pred, y_train.view(-1, 1))\n",
        "\n",
        "    # Clear Gradients - Recommended here to first clear the gradients and then calculate it frest\n",
        "    optimizer.zero_grad()\n",
        "\n",
        "    # backward pass\n",
        "    loss.backward()\n",
        "\n",
        "    # paramters update\n",
        "    optimizer.step()\n",
        "\n",
        "    # print loss in each epoch\n",
        "    print(f'Epoch: {i + 1}, Loss: {loss.item()}')"
      ],
      "metadata": {
        "id": "DPpzOfD3dPnR"
      },
      "execution_count": null,
      "outputs": []
    },
    {
      "cell_type": "code",
      "source": [
        "# model evaluation\n",
        "with torch.no_grad():\n",
        "  y_pred = model.forward(X_test_tensor)\n",
        "  y_pred = (y_pred > 0.5).float()\n",
        "  accuracy = (y_pred == y_test_tensor).float().mean()\n",
        "  print(f'Accuracy: {accuracy.item()}')"
      ],
      "metadata": {
        "id": "HcEuenaHfAHH"
      },
      "execution_count": null,
      "outputs": []
    }
  ]
}