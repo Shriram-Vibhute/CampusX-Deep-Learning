{
  "nbformat": 4,
  "nbformat_minor": 0,
  "metadata": {
    "colab": {
      "provenance": []
    },
    "kernelspec": {
      "name": "python3",
      "display_name": "Python 3"
    },
    "language_info": {
      "name": "python"
    }
  },
  "cells": [
    {
      "cell_type": "code",
      "execution_count": 1,
      "metadata": {
        "id": "BzrSblScu5Bx"
      },
      "outputs": [],
      "source": [
        "import numpy as np\n",
        "import pandas as pd"
      ]
    },
    {
      "cell_type": "code",
      "source": [
        "df = pd.read_csv('/content/100_Unique_QA_Dataset.csv')\n",
        "df.head()"
      ],
      "metadata": {
        "colab": {
          "base_uri": "https://localhost:8080/",
          "height": 206
        },
        "id": "Dl0qpQFUvN6D",
        "outputId": "0d479a0d-b3bf-4c58-eb68-8b10b774ce51"
      },
      "execution_count": 3,
      "outputs": [
        {
          "output_type": "execute_result",
          "data": {
            "text/plain": [
              "                                          question      answer\n",
              "0                   What is the capital of France?       Paris\n",
              "1                  What is the capital of Germany?      Berlin\n",
              "2               Who wrote 'To Kill a Mockingbird'?  Harper-Lee\n",
              "3  What is the largest planet in our solar system?     Jupiter\n",
              "4   What is the boiling point of water in Celsius?         100"
            ],
            "text/html": [
              "\n",
              "  <div id=\"df-00df7faa-8543-4eca-bf04-98fc85ead52b\" class=\"colab-df-container\">\n",
              "    <div>\n",
              "<style scoped>\n",
              "    .dataframe tbody tr th:only-of-type {\n",
              "        vertical-align: middle;\n",
              "    }\n",
              "\n",
              "    .dataframe tbody tr th {\n",
              "        vertical-align: top;\n",
              "    }\n",
              "\n",
              "    .dataframe thead th {\n",
              "        text-align: right;\n",
              "    }\n",
              "</style>\n",
              "<table border=\"1\" class=\"dataframe\">\n",
              "  <thead>\n",
              "    <tr style=\"text-align: right;\">\n",
              "      <th></th>\n",
              "      <th>question</th>\n",
              "      <th>answer</th>\n",
              "    </tr>\n",
              "  </thead>\n",
              "  <tbody>\n",
              "    <tr>\n",
              "      <th>0</th>\n",
              "      <td>What is the capital of France?</td>\n",
              "      <td>Paris</td>\n",
              "    </tr>\n",
              "    <tr>\n",
              "      <th>1</th>\n",
              "      <td>What is the capital of Germany?</td>\n",
              "      <td>Berlin</td>\n",
              "    </tr>\n",
              "    <tr>\n",
              "      <th>2</th>\n",
              "      <td>Who wrote 'To Kill a Mockingbird'?</td>\n",
              "      <td>Harper-Lee</td>\n",
              "    </tr>\n",
              "    <tr>\n",
              "      <th>3</th>\n",
              "      <td>What is the largest planet in our solar system?</td>\n",
              "      <td>Jupiter</td>\n",
              "    </tr>\n",
              "    <tr>\n",
              "      <th>4</th>\n",
              "      <td>What is the boiling point of water in Celsius?</td>\n",
              "      <td>100</td>\n",
              "    </tr>\n",
              "  </tbody>\n",
              "</table>\n",
              "</div>\n",
              "    <div class=\"colab-df-buttons\">\n",
              "\n",
              "  <div class=\"colab-df-container\">\n",
              "    <button class=\"colab-df-convert\" onclick=\"convertToInteractive('df-00df7faa-8543-4eca-bf04-98fc85ead52b')\"\n",
              "            title=\"Convert this dataframe to an interactive table.\"\n",
              "            style=\"display:none;\">\n",
              "\n",
              "  <svg xmlns=\"http://www.w3.org/2000/svg\" height=\"24px\" viewBox=\"0 -960 960 960\">\n",
              "    <path d=\"M120-120v-720h720v720H120Zm60-500h600v-160H180v160Zm220 220h160v-160H400v160Zm0 220h160v-160H400v160ZM180-400h160v-160H180v160Zm440 0h160v-160H620v160ZM180-180h160v-160H180v160Zm440 0h160v-160H620v160Z\"/>\n",
              "  </svg>\n",
              "    </button>\n",
              "\n",
              "  <style>\n",
              "    .colab-df-container {\n",
              "      display:flex;\n",
              "      gap: 12px;\n",
              "    }\n",
              "\n",
              "    .colab-df-convert {\n",
              "      background-color: #E8F0FE;\n",
              "      border: none;\n",
              "      border-radius: 50%;\n",
              "      cursor: pointer;\n",
              "      display: none;\n",
              "      fill: #1967D2;\n",
              "      height: 32px;\n",
              "      padding: 0 0 0 0;\n",
              "      width: 32px;\n",
              "    }\n",
              "\n",
              "    .colab-df-convert:hover {\n",
              "      background-color: #E2EBFA;\n",
              "      box-shadow: 0px 1px 2px rgba(60, 64, 67, 0.3), 0px 1px 3px 1px rgba(60, 64, 67, 0.15);\n",
              "      fill: #174EA6;\n",
              "    }\n",
              "\n",
              "    .colab-df-buttons div {\n",
              "      margin-bottom: 4px;\n",
              "    }\n",
              "\n",
              "    [theme=dark] .colab-df-convert {\n",
              "      background-color: #3B4455;\n",
              "      fill: #D2E3FC;\n",
              "    }\n",
              "\n",
              "    [theme=dark] .colab-df-convert:hover {\n",
              "      background-color: #434B5C;\n",
              "      box-shadow: 0px 1px 3px 1px rgba(0, 0, 0, 0.15);\n",
              "      filter: drop-shadow(0px 1px 2px rgba(0, 0, 0, 0.3));\n",
              "      fill: #FFFFFF;\n",
              "    }\n",
              "  </style>\n",
              "\n",
              "    <script>\n",
              "      const buttonEl =\n",
              "        document.querySelector('#df-00df7faa-8543-4eca-bf04-98fc85ead52b button.colab-df-convert');\n",
              "      buttonEl.style.display =\n",
              "        google.colab.kernel.accessAllowed ? 'block' : 'none';\n",
              "\n",
              "      async function convertToInteractive(key) {\n",
              "        const element = document.querySelector('#df-00df7faa-8543-4eca-bf04-98fc85ead52b');\n",
              "        const dataTable =\n",
              "          await google.colab.kernel.invokeFunction('convertToInteractive',\n",
              "                                                    [key], {});\n",
              "        if (!dataTable) return;\n",
              "\n",
              "        const docLinkHtml = 'Like what you see? Visit the ' +\n",
              "          '<a target=\"_blank\" href=https://colab.research.google.com/notebooks/data_table.ipynb>data table notebook</a>'\n",
              "          + ' to learn more about interactive tables.';\n",
              "        element.innerHTML = '';\n",
              "        dataTable['output_type'] = 'display_data';\n",
              "        await google.colab.output.renderOutput(dataTable, element);\n",
              "        const docLink = document.createElement('div');\n",
              "        docLink.innerHTML = docLinkHtml;\n",
              "        element.appendChild(docLink);\n",
              "      }\n",
              "    </script>\n",
              "  </div>\n",
              "\n",
              "\n",
              "    <div id=\"df-edbfcfc8-9e94-47a3-9832-058f1c6735ce\">\n",
              "      <button class=\"colab-df-quickchart\" onclick=\"quickchart('df-edbfcfc8-9e94-47a3-9832-058f1c6735ce')\"\n",
              "                title=\"Suggest charts\"\n",
              "                style=\"display:none;\">\n",
              "\n",
              "<svg xmlns=\"http://www.w3.org/2000/svg\" height=\"24px\"viewBox=\"0 0 24 24\"\n",
              "     width=\"24px\">\n",
              "    <g>\n",
              "        <path d=\"M19 3H5c-1.1 0-2 .9-2 2v14c0 1.1.9 2 2 2h14c1.1 0 2-.9 2-2V5c0-1.1-.9-2-2-2zM9 17H7v-7h2v7zm4 0h-2V7h2v10zm4 0h-2v-4h2v4z\"/>\n",
              "    </g>\n",
              "</svg>\n",
              "      </button>\n",
              "\n",
              "<style>\n",
              "  .colab-df-quickchart {\n",
              "      --bg-color: #E8F0FE;\n",
              "      --fill-color: #1967D2;\n",
              "      --hover-bg-color: #E2EBFA;\n",
              "      --hover-fill-color: #174EA6;\n",
              "      --disabled-fill-color: #AAA;\n",
              "      --disabled-bg-color: #DDD;\n",
              "  }\n",
              "\n",
              "  [theme=dark] .colab-df-quickchart {\n",
              "      --bg-color: #3B4455;\n",
              "      --fill-color: #D2E3FC;\n",
              "      --hover-bg-color: #434B5C;\n",
              "      --hover-fill-color: #FFFFFF;\n",
              "      --disabled-bg-color: #3B4455;\n",
              "      --disabled-fill-color: #666;\n",
              "  }\n",
              "\n",
              "  .colab-df-quickchart {\n",
              "    background-color: var(--bg-color);\n",
              "    border: none;\n",
              "    border-radius: 50%;\n",
              "    cursor: pointer;\n",
              "    display: none;\n",
              "    fill: var(--fill-color);\n",
              "    height: 32px;\n",
              "    padding: 0;\n",
              "    width: 32px;\n",
              "  }\n",
              "\n",
              "  .colab-df-quickchart:hover {\n",
              "    background-color: var(--hover-bg-color);\n",
              "    box-shadow: 0 1px 2px rgba(60, 64, 67, 0.3), 0 1px 3px 1px rgba(60, 64, 67, 0.15);\n",
              "    fill: var(--button-hover-fill-color);\n",
              "  }\n",
              "\n",
              "  .colab-df-quickchart-complete:disabled,\n",
              "  .colab-df-quickchart-complete:disabled:hover {\n",
              "    background-color: var(--disabled-bg-color);\n",
              "    fill: var(--disabled-fill-color);\n",
              "    box-shadow: none;\n",
              "  }\n",
              "\n",
              "  .colab-df-spinner {\n",
              "    border: 2px solid var(--fill-color);\n",
              "    border-color: transparent;\n",
              "    border-bottom-color: var(--fill-color);\n",
              "    animation:\n",
              "      spin 1s steps(1) infinite;\n",
              "  }\n",
              "\n",
              "  @keyframes spin {\n",
              "    0% {\n",
              "      border-color: transparent;\n",
              "      border-bottom-color: var(--fill-color);\n",
              "      border-left-color: var(--fill-color);\n",
              "    }\n",
              "    20% {\n",
              "      border-color: transparent;\n",
              "      border-left-color: var(--fill-color);\n",
              "      border-top-color: var(--fill-color);\n",
              "    }\n",
              "    30% {\n",
              "      border-color: transparent;\n",
              "      border-left-color: var(--fill-color);\n",
              "      border-top-color: var(--fill-color);\n",
              "      border-right-color: var(--fill-color);\n",
              "    }\n",
              "    40% {\n",
              "      border-color: transparent;\n",
              "      border-right-color: var(--fill-color);\n",
              "      border-top-color: var(--fill-color);\n",
              "    }\n",
              "    60% {\n",
              "      border-color: transparent;\n",
              "      border-right-color: var(--fill-color);\n",
              "    }\n",
              "    80% {\n",
              "      border-color: transparent;\n",
              "      border-right-color: var(--fill-color);\n",
              "      border-bottom-color: var(--fill-color);\n",
              "    }\n",
              "    90% {\n",
              "      border-color: transparent;\n",
              "      border-bottom-color: var(--fill-color);\n",
              "    }\n",
              "  }\n",
              "</style>\n",
              "\n",
              "      <script>\n",
              "        async function quickchart(key) {\n",
              "          const quickchartButtonEl =\n",
              "            document.querySelector('#' + key + ' button');\n",
              "          quickchartButtonEl.disabled = true;  // To prevent multiple clicks.\n",
              "          quickchartButtonEl.classList.add('colab-df-spinner');\n",
              "          try {\n",
              "            const charts = await google.colab.kernel.invokeFunction(\n",
              "                'suggestCharts', [key], {});\n",
              "          } catch (error) {\n",
              "            console.error('Error during call to suggestCharts:', error);\n",
              "          }\n",
              "          quickchartButtonEl.classList.remove('colab-df-spinner');\n",
              "          quickchartButtonEl.classList.add('colab-df-quickchart-complete');\n",
              "        }\n",
              "        (() => {\n",
              "          let quickchartButtonEl =\n",
              "            document.querySelector('#df-edbfcfc8-9e94-47a3-9832-058f1c6735ce button');\n",
              "          quickchartButtonEl.style.display =\n",
              "            google.colab.kernel.accessAllowed ? 'block' : 'none';\n",
              "        })();\n",
              "      </script>\n",
              "    </div>\n",
              "\n",
              "    </div>\n",
              "  </div>\n"
            ],
            "application/vnd.google.colaboratory.intrinsic+json": {
              "type": "dataframe",
              "variable_name": "df",
              "summary": "{\n  \"name\": \"df\",\n  \"rows\": 90,\n  \"fields\": [\n    {\n      \"column\": \"question\",\n      \"properties\": {\n        \"dtype\": \"string\",\n        \"num_unique_values\": 90,\n        \"samples\": [\n          \"What is the currency of China?\",\n          \"What is the capital of Australia?\",\n          \"Who discovered electricity?\"\n        ],\n        \"semantic_type\": \"\",\n        \"description\": \"\"\n      }\n    },\n    {\n      \"column\": \"answer\",\n      \"properties\": {\n        \"dtype\": \"string\",\n        \"num_unique_values\": 85,\n        \"samples\": [\n          \"ChristopherColumbus\",\n          \"Paris\",\n          \"Christmas\"\n        ],\n        \"semantic_type\": \"\",\n        \"description\": \"\"\n      }\n    }\n  ]\n}"
            }
          },
          "metadata": {},
          "execution_count": 3
        }
      ]
    },
    {
      "cell_type": "code",
      "source": [
        "# Global vocabulary\n",
        "vocabulary = {\"<UNK>\": 0}\n",
        "\n",
        "# Word by Word splitting and some preprocessing\n",
        "def tokenize(doc: str) -> list:\n",
        "    doc = doc.lower().replace('?', '').replace(\"'\", '')\n",
        "    return doc.split()\n",
        "\n",
        "# Building Vocabulary\n",
        "def build_vocab(doc: str) -> None:\n",
        "    for word in doc:\n",
        "        if word not in vocabulary:\n",
        "            vocabulary[word] = len(vocabulary)\n",
        "\n",
        "# Label Encoding each word\n",
        "def text_to_index(doc: str) -> list:\n",
        "    encoding = []\n",
        "    for word in doc:\n",
        "        if word in vocabulary:\n",
        "            encoding.append(vocabulary[word])\n",
        "        else:\n",
        "            encoding.append(vocabulary[\"<UNK>\"])\n",
        "    return encoding"
      ],
      "metadata": {
        "id": "ZjFZKk0HFg_O"
      },
      "execution_count": 30,
      "outputs": []
    },
    {
      "cell_type": "code",
      "source": [
        "import torch\n",
        "from torch.utils.data import Dataset, DataLoader\n",
        "\n",
        "class CustomDataset(Dataset):\n",
        "    def __init__(self, df):\n",
        "        # Questions\n",
        "        self.questions = df['question'].apply(tokenize)\n",
        "        self.questions.apply(build_vocab)\n",
        "        self.questions = self.questions.apply(text_to_index)\n",
        "\n",
        "        # Answers\n",
        "        self.answers = df['answer'].apply(tokenize)\n",
        "        self.answers.apply(build_vocab)\n",
        "        self.answers = self.answers.apply(text_to_index)\n",
        "\n",
        "    def __len__(self):\n",
        "        return self.questions.shape[0]\n",
        "\n",
        "    def __getitem__(self, index):\n",
        "        question = torch.tensor(self.questions[index])\n",
        "        answer = torch.tensor(self.answers[index])\n",
        "        return question, answer"
      ],
      "metadata": {
        "id": "hNNvXszz0MNf"
      },
      "execution_count": 31,
      "outputs": []
    },
    {
      "cell_type": "code",
      "source": [
        "obj = CustomDataset(df)"
      ],
      "metadata": {
        "id": "TzHFCs7G0uRi"
      },
      "execution_count": 32,
      "outputs": []
    },
    {
      "cell_type": "code",
      "source": [
        "len(obj)"
      ],
      "metadata": {
        "colab": {
          "base_uri": "https://localhost:8080/"
        },
        "id": "wT6nNa1ACMZ5",
        "outputId": "2e233bb8-5fab-4517-e6f7-2ac25b36cb8d"
      },
      "execution_count": 33,
      "outputs": [
        {
          "output_type": "execute_result",
          "data": {
            "text/plain": [
              "90"
            ]
          },
          "metadata": {},
          "execution_count": 33
        }
      ]
    },
    {
      "cell_type": "code",
      "source": [
        "obj[10]"
      ],
      "metadata": {
        "colab": {
          "base_uri": "https://localhost:8080/"
        },
        "id": "6swM8frkKuBe",
        "outputId": "8f50d9ec-e081-4290-a294-26da542f727f"
      },
      "execution_count": 34,
      "outputs": [
        {
          "output_type": "execute_result",
          "data": {
            "text/plain": [
              "(tensor([ 1,  2,  3,  4,  5, 43]), tensor([255]))"
            ]
          },
          "metadata": {},
          "execution_count": 34
        }
      ]
    },
    {
      "cell_type": "code",
      "source": [
        "len(vocabulary)"
      ],
      "metadata": {
        "colab": {
          "base_uri": "https://localhost:8080/"
        },
        "id": "3wYtZUaRK2pI",
        "outputId": "b9030070-b31c-4fdb-ca1c-70499e3e3418"
      },
      "execution_count": 36,
      "outputs": [
        {
          "output_type": "execute_result",
          "data": {
            "text/plain": [
              "324"
            ]
          },
          "metadata": {},
          "execution_count": 36
        }
      ]
    },
    {
      "cell_type": "code",
      "source": [
        "# Dataloader object\n",
        "dataloader = DataLoader(dataset = obj, batch_size = 1, shuffle = True)"
      ],
      "metadata": {
        "id": "FhnIzADr7ASm"
      },
      "execution_count": 37,
      "outputs": []
    },
    {
      "cell_type": "code",
      "source": [
        "from torch import nn\n",
        "from torch.nn import Module, Linear, Embedding, RNN\n",
        "\n",
        "class CustomModel(Module):\n",
        "    def __init__(self, vocabulary_size):\n",
        "        super().__init__()\n",
        "        self.embedding = Embedding(num_embeddings = vocabulary_size, embedding_dim = 50)\n",
        "        self.rnn = RNN(input_size = 50, hidden_size = 64, num_layers = 1, batch_first = True)\n",
        "        self.linear = Linear(in_features = 64, out_features = 324)\n",
        "\n",
        "    def forward(self, X_train):\n",
        "        x = self.embedding(X_train)\n",
        "        x = self.rnn(x)[1]\n",
        "        x = self.linear(x[0])\n",
        "        return x"
      ],
      "metadata": {
        "id": "rcygbQ4w9fLZ"
      },
      "execution_count": 38,
      "outputs": []
    },
    {
      "cell_type": "code",
      "source": [
        "# Parameters\n",
        "learning_rate = 0.01\n",
        "epochs = 20\n",
        "\n",
        "# Model\n",
        "model = CustomModel(len(vocabulary))\n",
        "\n",
        "# Loss and optimizer\n",
        "crition = nn.CrossEntropyLoss()\n",
        "optimizer = torch.optim.Adam(model.parameters(), lr = learning_rate)"
      ],
      "metadata": {
        "id": "-EffGllMhWx5"
      },
      "execution_count": 40,
      "outputs": []
    },
    {
      "cell_type": "code",
      "source": [
        "# training loop\n",
        "\n",
        "for epoch in range(epochs):\n",
        "    # Training loss\n",
        "    total_loss = 0\n",
        "\n",
        "    for question, answer in dataloader:\n",
        "        optimizer.zero_grad()\n",
        "\n",
        "        # forward pass\n",
        "        output = model(question)\n",
        "\n",
        "        # loss -> output shape (1,324) - (1)\n",
        "        loss = crition(output, answer[0]) # answer is [[234]] -> we need [234]\n",
        "\n",
        "        # gradients\n",
        "        loss.backward()\n",
        "\n",
        "        # update\n",
        "        optimizer.step()\n",
        "\n",
        "        total_loss += loss.item()\n",
        "\n",
        "    print(f\"Epoch: {epoch+1}, Loss: {total_loss:4f}\")"
      ],
      "metadata": {
        "colab": {
          "base_uri": "https://localhost:8080/"
        },
        "id": "STCJiLeWjA5Z",
        "outputId": "465bff35-2139-4686-99c9-a9c64962680b"
      },
      "execution_count": 41,
      "outputs": [
        {
          "output_type": "stream",
          "name": "stdout",
          "text": [
            "Epoch: 1, Loss: 550.339101\n",
            "Epoch: 2, Loss: 387.654267\n",
            "Epoch: 3, Loss: 181.307964\n",
            "Epoch: 4, Loss: 66.726079\n",
            "Epoch: 5, Loss: 39.919988\n",
            "Epoch: 6, Loss: 36.187008\n",
            "Epoch: 7, Loss: 21.481358\n",
            "Epoch: 8, Loss: 22.725643\n",
            "Epoch: 9, Loss: 15.668339\n",
            "Epoch: 10, Loss: 20.682343\n",
            "Epoch: 11, Loss: 11.082262\n",
            "Epoch: 12, Loss: 10.561101\n",
            "Epoch: 13, Loss: 10.492138\n",
            "Epoch: 14, Loss: 6.626725\n",
            "Epoch: 15, Loss: 3.017596\n",
            "Epoch: 16, Loss: 0.951603\n",
            "Epoch: 17, Loss: 0.590405\n",
            "Epoch: 18, Loss: 0.482855\n",
            "Epoch: 19, Loss: 0.417959\n",
            "Epoch: 20, Loss: 0.373680\n"
          ]
        }
      ]
    },
    {
      "cell_type": "code",
      "source": [
        "def predict(model, question, threshold=0.5):\n",
        "\n",
        "    # convert question to numbers\n",
        "    question = tokenize(question)\n",
        "    encoded = text_to_index(question)\n",
        "\n",
        "    # tensor\n",
        "    question_tensor = torch.tensor(encoded)\n",
        "\n",
        "    # send to model\n",
        "    output = model(question_tensor)\n",
        "\n",
        "    # convert logits to probs\n",
        "    probs = torch.nn.functional.softmax(output.reshape(1, -1), dim=1)\n",
        "\n",
        "    # find index of max prob\n",
        "    value, index = torch.max(probs, dim=1)\n",
        "\n",
        "    if value < threshold:\n",
        "        print(\"I don't know\")\n",
        "\n",
        "    print(list(vocabulary.keys())[index])\n",
        "\n",
        "predict(model = model, question = \"Who invented the light bulb?\")"
      ],
      "metadata": {
        "colab": {
          "base_uri": "https://localhost:8080/"
        },
        "id": "Mw4M3imVp0U7",
        "outputId": "89b9407d-4c0e-45f1-f339-e6cbae93317c"
      },
      "execution_count": 55,
      "outputs": [
        {
          "output_type": "stream",
          "name": "stdout",
          "text": [
            "edison\n"
          ]
        }
      ]
    },
    {
      "cell_type": "markdown",
      "source": [
        "> `Note`: Why we have not clubbed all the individual layers in the sequential model?"
      ],
      "metadata": {
        "id": "fylH9-22eLtH"
      }
    },
    {
      "cell_type": "code",
      "source": [
        "x = nn.Embedding(324, embedding_dim = 50)\n",
        "y = nn.RNN(50, 64) # The shape -> torch.Size([1, 6, 50]) -> The first number (i.e. 1) represents batch_size now\n",
        "z = nn.Linear(64, 324)\n",
        "\n",
        "a = obj[0][0].reshape(1, 6) # Length of document\n",
        "print(\"shape of a:\", a.shape)\n",
        "\n",
        "b = x(a) # Embedding shape -> [1, 6, 50] - 1 document, 6 tokens, each represented by 50 numbers\n",
        "print(\"shape of b:\", b.shape)\n",
        "\n",
        "c, d = y(b) # RNN layer providing the output coming out from each timestpe -> c and d are exactly same\n",
        "print(\"shape of c:\", c.shape)\n",
        "print(\"shape of d:\", d.shape)\n",
        "\n",
        "e = z(d[0]) # Linear layer - output -> need (1, 1, 324) dimention\n",
        "print(\"shape of e:\", e.shape)"
      ],
      "metadata": {
        "id": "1DPLlNAYBp_j",
        "colab": {
          "base_uri": "https://localhost:8080/"
        },
        "outputId": "214a7da8-4e0d-4221-d02f-e0f399db3ae1"
      },
      "execution_count": 59,
      "outputs": [
        {
          "output_type": "stream",
          "name": "stdout",
          "text": [
            "shape of a: torch.Size([1, 6])\n",
            "shape of b: torch.Size([1, 6, 50])\n",
            "shape of c: torch.Size([1, 6, 64])\n",
            "shape of d: torch.Size([1, 6, 64])\n",
            "shape of e: torch.Size([6, 324])\n"
          ]
        }
      ]
    },
    {
      "cell_type": "markdown",
      "source": [
        "> This is because there is an internal swapping of `no.words` and `batch size` in RNN layer"
      ],
      "metadata": {
        "id": "j1YCzsLRO6xJ"
      }
    },
    {
      "cell_type": "code",
      "source": [
        "x = nn.Embedding(324, embedding_dim = 50)\n",
        "y = nn.RNN(50, 64, batch_first=True) # The shape -> torch.Size([1, 6, 50]) -> The first number (i.e. 1) represents batch_size now\n",
        "z = nn.Linear(64, 324)\n",
        "\n",
        "a = obj[0][0].reshape(1, 6) # Length of document\n",
        "print(\"shape of a:\", a.shape)\n",
        "\n",
        "b = x(a) # Embedding shape -> [1, 6, 50] - 1 document, 6 tokens, each represented by 50 numbers\n",
        "print(\"shape of b:\", b.shape)\n",
        "\n",
        "c, d = y(b) # RNN layer providing the output coming out from each timestpe -> c and d are exactly same\n",
        "print(\"shape of c:\", c.shape)\n",
        "print(\"shape of d:\", d.shape) # Now the shape of d becomes same as the output shape\n",
        "\n",
        "e = z(d.squeeze(0)) # Linear layer - output -> need (1, 324) dimention - removing the 0th dimention\n",
        "print(\"shape of e:\", e.shape)"
      ],
      "metadata": {
        "colab": {
          "base_uri": "https://localhost:8080/"
        },
        "id": "n-EP_grEQjP6",
        "outputId": "0b3448ff-03e3-4aee-a783-23307589461c"
      },
      "execution_count": 62,
      "outputs": [
        {
          "output_type": "stream",
          "name": "stdout",
          "text": [
            "shape of a: torch.Size([1, 6])\n",
            "shape of b: torch.Size([1, 6, 50])\n",
            "shape of c: torch.Size([1, 6, 64])\n",
            "shape of d: torch.Size([1, 1, 64])\n",
            "shape of e: torch.Size([1, 324])\n"
          ]
        }
      ]
    },
    {
      "cell_type": "code",
      "source": [
        "x = Embedding(num_embeddings = 324, embedding_dim = 50)\n",
        "x(obj[10][0]) # Here each word is represented in 50 dimentional vector"
      ],
      "metadata": {
        "colab": {
          "base_uri": "https://localhost:8080/"
        },
        "id": "x_WtvsnAeVVC",
        "outputId": "216e1840-f5a9-4c29-f608-3a44decc134e"
      },
      "execution_count": null,
      "outputs": [
        {
          "output_type": "execute_result",
          "data": {
            "text/plain": [
              "tensor([[-1.0461e+00, -4.6219e-01,  6.6059e-01, -3.3177e-01,  5.2045e-01,\n",
              "         -5.5609e-01, -1.4675e+00,  2.1445e-01, -9.0545e-01, -1.0786e+00,\n",
              "          8.1360e-01,  9.0473e-01, -4.4284e-01, -1.5623e+00,  1.0710e+00,\n",
              "          1.2653e+00,  2.5241e+00,  1.6951e+00, -1.5642e+00,  1.8392e+00,\n",
              "         -5.0250e-01, -6.3285e-02, -1.1376e+00,  5.1754e-01,  4.6575e-01,\n",
              "         -2.1461e-02,  6.4183e-01, -3.2768e-01,  4.5768e-01, -1.2816e+00,\n",
              "         -1.2318e+00, -6.5893e-01,  1.3353e+00,  1.2324e+00,  2.4504e+00,\n",
              "         -2.5420e-02, -7.0056e-01, -1.0624e+00, -1.1190e+00,  1.4185e+00,\n",
              "          2.8599e-01, -2.9091e-01, -1.3036e-01, -1.1756e+00, -2.3197e-01,\n",
              "         -1.6586e-01,  1.2974e+00, -1.0773e+00,  9.9650e-01, -1.3436e+00],\n",
              "        [-8.2386e-01,  1.3841e-01,  1.6780e+00,  2.2201e+00,  9.5350e-01,\n",
              "         -1.5310e-01,  1.0092e-01, -5.8397e-01,  1.0043e+00, -1.5778e+00,\n",
              "          1.5574e+00, -7.7024e-02,  4.8643e-01,  4.9589e-05, -4.1732e-01,\n",
              "          2.8395e-01,  1.0458e+00, -1.6893e+00, -1.1306e+00, -2.4815e-01,\n",
              "          1.6857e+00,  7.1275e-01, -1.0696e+00, -1.0276e+00, -2.6528e-01,\n",
              "         -1.4479e+00,  8.3151e-01, -2.1381e+00, -4.3997e-01, -1.0568e+00,\n",
              "          4.2944e-01, -2.4201e-01,  4.9603e-01,  3.5901e-01,  7.8868e-01,\n",
              "         -4.9347e-01,  1.0713e+00, -4.3760e-01, -1.6316e-01,  5.2425e-01,\n",
              "         -1.4372e+00, -1.3666e+00,  1.3172e+00, -1.1542e+00, -1.1347e+00,\n",
              "         -2.1777e-01, -1.4287e+00,  1.7908e+00, -5.8008e-01, -1.2073e+00],\n",
              "        [ 4.2977e-01, -1.0965e+00, -8.4262e-01, -1.6499e-01,  1.1966e+00,\n",
              "         -4.6950e-01,  7.6930e-01,  1.1204e+00,  1.7208e-01, -7.7010e-01,\n",
              "         -1.3131e+00,  2.3086e+00,  5.4078e-01,  7.0231e-01,  1.9423e-01,\n",
              "          1.8383e+00, -9.4625e-02, -1.1218e+00, -1.7036e+00, -5.5573e-01,\n",
              "          2.3586e+00, -1.0616e+00, -4.1301e-01,  9.8094e-01,  1.6093e+00,\n",
              "         -1.1864e-01,  4.6513e-01, -1.6818e+00,  6.4103e-01,  1.8959e+00,\n",
              "          1.6713e+00, -4.2675e-01, -1.9227e+00, -9.0500e-02,  4.5450e-01,\n",
              "          2.5777e-01,  1.0651e+00, -7.5263e-01,  2.2413e+00, -2.6187e-01,\n",
              "         -1.3049e-01,  4.3750e-01,  1.0953e+00,  8.5879e-01,  1.4188e+00,\n",
              "          1.5464e+00, -3.9747e-01,  5.2311e-01, -8.8542e-01,  7.1599e-01],\n",
              "        [ 1.3429e+00, -3.8156e-01, -1.1007e+00, -9.6167e-01, -4.2968e-01,\n",
              "          3.8144e-01, -4.6568e-01, -1.3071e+00, -7.6562e-01, -4.5764e-01,\n",
              "          8.7138e-01,  7.4416e-02, -2.1365e-02, -2.8125e-01, -1.7394e-01,\n",
              "          5.1245e-01,  1.5941e+00, -1.3320e+00,  1.1930e+00,  8.2919e-01,\n",
              "         -3.9073e-01,  1.4963e-01,  1.8579e-01, -1.3072e+00,  1.3630e+00,\n",
              "         -4.5002e-01,  1.3165e+00, -1.7478e-01,  5.2423e-01, -7.4607e-02,\n",
              "          1.7922e-01,  1.0973e-01, -9.2242e-01, -2.4239e+00, -2.2549e-02,\n",
              "         -6.0563e-02,  8.3277e-01, -2.3421e-01, -1.4266e+00, -5.4729e-01,\n",
              "          6.8090e-02,  6.5692e-01, -9.4351e-01,  1.4198e+00,  2.5942e-01,\n",
              "          4.8483e-01, -2.5910e-01,  1.2451e+00, -1.5861e+00, -3.7300e-02],\n",
              "        [ 3.0235e-01, -8.4613e-01,  1.9954e-02,  6.2867e-01,  4.5795e-01,\n",
              "          4.7484e-02,  2.4767e-01,  4.6312e-01, -5.6790e-01, -1.1749e-01,\n",
              "         -2.4300e-01,  6.3372e-01,  2.4658e-01,  6.2870e-01, -7.2466e-01,\n",
              "         -5.7179e-01,  8.2070e-01,  1.3649e+00, -6.1365e-01, -1.5586e-01,\n",
              "          6.4196e-01, -5.5510e-01, -3.6925e-02, -2.7903e-01,  1.8969e+00,\n",
              "          1.2746e+00,  2.0750e+00, -3.8823e-01,  1.8248e+00,  5.3360e-01,\n",
              "         -7.0799e-01,  4.7830e-01, -8.9968e-01, -2.4304e-01,  1.5720e-01,\n",
              "          6.4418e-01, -4.2998e-01,  9.2575e-01, -1.1337e+00,  6.8708e-02,\n",
              "         -1.6434e+00, -1.4056e+00, -4.1736e-02, -5.5919e-01, -1.1012e+00,\n",
              "          3.6736e-02,  2.0981e-02,  5.1788e-01,  9.9586e-01,  1.4457e+00],\n",
              "        [ 1.3956e+00,  2.3865e+00,  1.2220e+00, -3.1154e-01,  4.4947e-01,\n",
              "          1.0485e-01,  1.9030e+00,  1.5589e+00,  1.2323e+00,  1.2021e-03,\n",
              "          2.7237e-01, -8.6489e-01,  4.2348e-01, -5.0526e-01,  1.7901e+00,\n",
              "          1.8627e+00, -3.5549e-01,  1.0754e+00,  9.1875e-01,  3.9264e-01,\n",
              "          6.2374e-01,  5.1516e-02,  1.5203e-01, -4.7029e-01, -2.1177e+00,\n",
              "         -8.0980e-01,  1.0420e+00, -4.9142e-01,  5.8712e-01, -4.4176e-01,\n",
              "          1.0406e+00,  1.3142e+00, -6.5096e-01,  1.3688e+00,  5.1771e-01,\n",
              "         -1.5802e+00,  1.5140e+00,  1.4805e+00, -1.4730e-01, -2.7586e-01,\n",
              "         -4.3946e-01,  1.2438e+00, -9.0468e-01,  6.8691e-01, -2.4971e-01,\n",
              "          4.6660e-01,  9.9910e-01,  3.2964e-01, -6.8454e-01,  1.4301e+00]],\n",
              "       grad_fn=<EmbeddingBackward0>)"
            ]
          },
          "metadata": {},
          "execution_count": 108
        }
      ]
    },
    {
      "cell_type": "code",
      "source": [
        "obj[10][0]"
      ],
      "metadata": {
        "colab": {
          "base_uri": "https://localhost:8080/"
        },
        "id": "6atKZldIfqho",
        "outputId": "0d1c45ae-79ce-46c1-fc7c-d224d74dcab0"
      },
      "execution_count": null,
      "outputs": [
        {
          "output_type": "execute_result",
          "data": {
            "text/plain": [
              "tensor([ 1,  2,  3,  4,  5, 43])"
            ]
          },
          "metadata": {},
          "execution_count": 109
        }
      ]
    },
    {
      "cell_type": "code",
      "source": [
        "rnn = RNN(input_size = 50, hidden_size = 64, num_layers = 1)\n",
        "rnn(x(obj[10][0]))[0] # This is the output for our current datapoint at all the timesteps"
      ],
      "metadata": {
        "colab": {
          "base_uri": "https://localhost:8080/"
        },
        "id": "mkeDseC4ey69",
        "outputId": "f241dd3b-5a5b-4bcf-fe3a-f32f3fc6854b"
      },
      "execution_count": null,
      "outputs": [
        {
          "output_type": "execute_result",
          "data": {
            "text/plain": [
              "tensor([[-0.1480,  0.1682, -0.3153,  0.8464,  0.2124,  0.6890,  0.5377,  0.3913,\n",
              "          0.3764,  0.3233,  0.0711, -0.3419,  0.4632, -0.6993, -0.5980, -0.4139,\n",
              "          0.3966, -0.6877, -0.4740,  0.0493,  0.2442,  0.1008, -0.2329, -0.2301,\n",
              "          0.1859,  0.7681, -0.2649,  0.5325,  0.7416,  0.5057,  0.6203, -0.0668,\n",
              "          0.4639, -0.1839, -0.0997,  0.0238, -0.8411, -0.3240,  0.5799, -0.7168,\n",
              "          0.2370, -0.5877, -0.4104, -0.3649, -0.2777, -0.3271, -0.0061,  0.6702,\n",
              "         -0.4394, -0.4092, -0.0328,  0.0395,  0.4109,  0.7653, -0.0898,  0.7611,\n",
              "         -0.4284,  0.3215, -0.7439, -0.1941, -0.1959, -0.6177,  0.5429, -0.1177],\n",
              "        [-0.3532,  0.1987, -0.1227,  0.7762,  0.3996, -0.2972, -0.1271,  0.2906,\n",
              "         -0.6666, -0.4046, -0.8322,  0.3710,  0.6560,  0.5631,  0.0033, -0.1289,\n",
              "         -0.0480, -0.6461, -0.1639, -0.2048, -0.7219,  0.1504, -0.0874,  0.7774,\n",
              "         -0.6056,  0.4217,  0.1112,  0.7114, -0.3372, -0.0852,  0.5182,  0.6798,\n",
              "          0.2826, -0.7445, -0.7990, -0.0162, -0.3433,  0.4799, -0.0259, -0.3938,\n",
              "         -0.5749, -0.5178, -0.4163,  0.1981, -0.7519,  0.5838, -0.1677, -0.7449,\n",
              "         -0.5438,  0.0918,  0.8945, -0.2211,  0.3365, -0.4933,  0.5203, -0.4658,\n",
              "          0.7523, -0.0907,  0.4079,  0.7686, -0.3565, -0.6102,  0.8564,  0.6111],\n",
              "        [ 0.2028, -0.8719,  0.6430, -0.3382, -0.3191, -0.1319,  0.1483, -0.3452,\n",
              "         -0.2197, -0.0281,  0.2984,  0.0292,  0.0020, -0.1892,  0.5866,  0.7584,\n",
              "          0.6460, -0.5432,  0.2796,  0.8628,  0.3212, -0.5050, -0.6581,  0.1728,\n",
              "          0.2821, -0.1647,  0.5702, -0.6829, -0.0109,  0.4939,  0.6781, -0.5735,\n",
              "         -0.3433,  0.0749,  0.3292,  0.6929, -0.0740,  0.7245, -0.4433,  0.5915,\n",
              "          0.5908, -0.3497, -0.0321, -0.6279, -0.1527,  0.1412, -0.8836, -0.7935,\n",
              "          0.5317,  0.6778,  0.6594, -0.0869, -0.3723, -0.5992, -0.2173, -0.4628,\n",
              "         -0.4272, -0.2368,  0.0808,  0.6401,  0.2222, -0.1529, -0.2077,  0.0471],\n",
              "        [-0.4339, -0.5653,  0.2831,  0.3723, -0.0869, -0.0817, -0.3491, -0.2090,\n",
              "         -0.3515,  0.0566,  0.0517,  0.5183,  0.6295,  0.8830,  0.0919,  0.5402,\n",
              "          0.7666,  0.4729,  0.0711,  0.2564, -0.1263, -0.4307, -0.1311,  0.8162,\n",
              "          0.6033,  0.1412,  0.7042, -0.3744,  0.7663,  0.3492, -0.4378,  0.7334,\n",
              "          0.3749,  0.1562, -0.0768, -0.1458, -0.0331, -0.7702, -0.4351,  0.5611,\n",
              "         -0.3111,  0.2708,  0.6280,  0.4104, -0.1945,  0.4970, -0.4127, -0.4121,\n",
              "          0.6675, -0.3184, -0.0712,  0.0505, -0.0574, -0.3946,  0.4497,  0.3601,\n",
              "          0.1435,  0.6226,  0.0828,  0.2479, -0.6789,  0.8215, -0.0186, -0.7717],\n",
              "        [-0.1664, -0.2198, -0.2306,  0.5746,  0.4809,  0.7256,  0.0402,  0.1864,\n",
              "          0.2078, -0.0981,  0.4379,  0.0053,  0.2467, -0.0681, -0.7042,  0.6358,\n",
              "          0.0683,  0.4078, -0.0131, -0.2065, -0.4242, -0.6124, -0.4115, -0.4597,\n",
              "         -0.2073, -0.4403, -0.3926, -0.2543, -0.0677, -0.4335,  0.1968,  0.1655,\n",
              "          0.7306,  0.1385, -0.8358, -0.3958,  0.4514,  0.0792,  0.0161,  0.0371,\n",
              "         -0.4864,  0.0334, -0.1218, -0.7521,  0.4262,  0.0774, -0.4561, -0.3062,\n",
              "          0.8328,  0.3730, -0.0419,  0.7628,  0.5037, -0.7327,  0.5557,  0.0723,\n",
              "          0.7093,  0.1594, -0.6388,  0.5112,  0.6014, -0.1268, -0.5983, -0.5433],\n",
              "        [-0.4779,  0.3596,  0.0401,  0.5537,  0.0101, -0.7158,  0.2944,  0.1263,\n",
              "         -0.8846, -0.1536,  0.0157, -0.4048, -0.2939, -0.3868,  0.5018,  0.6671,\n",
              "         -0.0726, -0.3498,  0.4542,  0.8057,  0.2766, -0.1354,  0.1344, -0.3239,\n",
              "         -0.3390, -0.1868, -0.1251,  0.4409,  0.3459,  0.0890, -0.1926, -0.7374,\n",
              "         -0.1043,  0.0051, -0.6688,  0.4271,  0.1331, -0.6063,  0.5489,  0.7169,\n",
              "         -0.5324, -0.1256,  0.6161,  0.0746, -0.1097,  0.8607,  0.6436,  0.0758,\n",
              "          0.2875,  0.6023,  0.6642, -0.4370, -0.0475, -0.5442, -0.8497, -0.6466,\n",
              "          0.5463, -0.5586, -0.7424,  0.5772,  0.3330, -0.5952,  0.4884,  0.1198]],\n",
              "       grad_fn=<SqueezeBackward1>)"
            ]
          },
          "metadata": {},
          "execution_count": 110
        }
      ]
    },
    {
      "cell_type": "code",
      "source": [
        "rnn(x(obj[10][0]))[1] # This is the output that get after all the unfolding through time performed by rnn layer"
      ],
      "metadata": {
        "colab": {
          "base_uri": "https://localhost:8080/"
        },
        "id": "LHLf98DJfDtu",
        "outputId": "adf76857-ac99-41c3-d285-9b5f161590ac"
      },
      "execution_count": null,
      "outputs": [
        {
          "output_type": "execute_result",
          "data": {
            "text/plain": [
              "tensor([[-0.4779,  0.3596,  0.0401,  0.5537,  0.0101, -0.7158,  0.2944,  0.1263,\n",
              "         -0.8846, -0.1536,  0.0157, -0.4048, -0.2939, -0.3868,  0.5018,  0.6671,\n",
              "         -0.0726, -0.3498,  0.4542,  0.8057,  0.2766, -0.1354,  0.1344, -0.3239,\n",
              "         -0.3390, -0.1868, -0.1251,  0.4409,  0.3459,  0.0890, -0.1926, -0.7374,\n",
              "         -0.1043,  0.0051, -0.6688,  0.4271,  0.1331, -0.6063,  0.5489,  0.7169,\n",
              "         -0.5324, -0.1256,  0.6161,  0.0746, -0.1097,  0.8607,  0.6436,  0.0758,\n",
              "          0.2875,  0.6023,  0.6642, -0.4370, -0.0475, -0.5442, -0.8497, -0.6466,\n",
              "          0.5463, -0.5586, -0.7424,  0.5772,  0.3330, -0.5952,  0.4884,  0.1198]],\n",
              "       grad_fn=<SqueezeBackward1>)"
            ]
          },
          "metadata": {},
          "execution_count": 111
        }
      ]
    },
    {
      "cell_type": "code",
      "source": [
        "l = Linear(in_features = 64, out_features = 324)\n",
        "l(rnn(x(obj[10][0]))[1])"
      ],
      "metadata": {
        "colab": {
          "base_uri": "https://localhost:8080/"
        },
        "id": "g5qqlmu6fJjn",
        "outputId": "77e9ea73-c644-482f-d246-94840409b9bb"
      },
      "execution_count": null,
      "outputs": [
        {
          "output_type": "execute_result",
          "data": {
            "text/plain": [
              "tensor([[-0.1188, -0.0173, -0.0659,  0.0729, -0.3191,  0.0257, -0.1517, -0.3821,\n",
              "         -0.4242, -0.0771,  0.3054,  0.5617,  0.0383, -0.2151,  0.3662,  0.1489,\n",
              "          0.0211, -0.0884, -0.1222, -0.4123, -0.0690,  0.0085, -0.7261, -0.3389,\n",
              "         -0.2797,  0.1057, -0.2410, -0.0140, -0.0295, -0.4859, -0.1396,  0.3064,\n",
              "         -0.3079,  0.2448,  0.0621, -0.3337,  0.0326,  0.0070,  0.0747,  0.4105,\n",
              "         -0.3255,  0.0709,  0.2476, -0.0197,  0.1185, -0.3247,  0.1210, -0.0838,\n",
              "          0.0635, -0.0466, -0.2170,  0.1870,  0.1054, -0.4091,  0.2169, -0.2377,\n",
              "         -0.1413, -0.2101, -0.1087,  0.0397,  0.4070,  0.2792,  0.6470, -0.2522,\n",
              "          0.2529,  0.0482, -0.0805, -0.3199, -0.5706,  0.1963,  0.1735, -0.2893,\n",
              "         -0.2278,  0.2025,  0.3049, -0.1097,  0.2029,  0.2665,  0.3520, -0.4406,\n",
              "          0.1413, -0.1050,  0.3179,  0.1808, -0.2725, -0.2645, -0.4522,  0.0594,\n",
              "         -0.4049,  0.1337, -0.0314, -0.4866,  0.2711, -0.0842,  0.2940,  0.3305,\n",
              "          0.1066,  0.1426, -0.0281,  0.0299, -0.0433, -0.0382,  0.2577,  0.3239,\n",
              "         -0.1817,  0.3997, -0.0885,  0.2765,  0.0739,  0.4245, -0.3225, -0.3284,\n",
              "         -0.1068, -0.3925,  0.0295, -0.6095,  0.0956, -0.4503, -0.4402, -0.4215,\n",
              "          0.4122,  0.3104,  0.0195, -0.4999, -0.1490, -0.0761,  0.2944,  0.0348,\n",
              "         -0.0892, -0.0893, -0.0562,  0.1951,  0.0092,  0.2455,  0.1968, -0.1924,\n",
              "          0.6729,  0.3575,  0.1332,  0.0549,  0.1095,  0.1172, -0.3015, -0.4372,\n",
              "         -0.0774, -0.4363, -0.2802,  0.5249,  0.3599, -0.2556,  0.3625, -0.0842,\n",
              "         -0.0663,  0.2613, -0.2586, -0.1275,  0.3613, -0.2653, -0.3497,  0.2968,\n",
              "         -0.5003, -0.1583,  0.6282, -0.0254, -0.4205,  0.1127,  0.0115, -0.0873,\n",
              "          0.1181,  0.2180, -0.0061,  0.0512, -0.0841, -0.1067, -0.1943, -0.0608,\n",
              "         -0.1726, -0.2673, -0.2859,  0.0833, -0.4622,  0.1152, -0.0292,  0.1035,\n",
              "          0.3026, -0.0432,  0.2920,  0.2579, -0.1109,  0.3721,  0.0387,  0.0858,\n",
              "          0.0598, -0.1463, -0.2178, -0.0339, -0.2138,  0.1123, -0.1556,  0.3470,\n",
              "         -0.3705, -0.2773,  0.0705, -0.1905,  0.0186,  0.1020, -0.3224,  0.3028,\n",
              "          0.5357,  0.0809,  0.3462, -0.2234,  0.5118, -0.0073, -0.3983,  0.2243,\n",
              "          0.2105, -0.1447,  0.0913,  0.1560,  0.4630,  0.2369,  0.1485,  0.1161,\n",
              "          0.0220,  0.0601, -0.1216,  0.1455, -0.2942,  0.0167,  0.5271, -0.1253,\n",
              "         -0.3060, -0.2569, -0.1078,  0.2618, -0.4956,  0.1229,  0.4066,  0.3940,\n",
              "          0.4345, -0.0101, -0.0693,  0.0031,  0.0480,  0.1415,  0.1084, -0.1486,\n",
              "          0.1257, -0.1666,  0.0410, -0.3098, -0.2685, -0.2509,  0.3031, -0.0780,\n",
              "          0.0113, -0.0332, -0.1180, -0.2500,  0.1718,  0.0037, -0.1457,  0.5706,\n",
              "         -0.4626,  0.3485, -0.2587, -0.1073, -0.4527, -0.2210, -0.0921, -0.2121,\n",
              "         -0.0421, -0.3667, -0.0219, -0.0708,  0.1037,  0.1185,  0.1610, -0.4963,\n",
              "          0.2356, -0.1829, -0.4608,  0.5211,  0.5843,  0.2887, -0.0135, -0.1652,\n",
              "          0.2991, -0.2377, -0.1635, -0.0279, -0.4065,  0.1426, -0.1879, -0.3280,\n",
              "          0.0112,  0.6206,  0.2099,  0.2738, -0.1628, -0.3434, -0.0049, -0.3654,\n",
              "         -0.2092,  0.1974,  0.0024, -0.2114, -0.2956, -0.6929, -0.1009,  0.3687,\n",
              "          0.1682,  0.2490, -0.1811,  0.2672,  0.1640,  0.1768, -0.1373, -0.0392,\n",
              "          0.2440,  0.2091, -0.5749, -0.0053]], grad_fn=<AddmmBackward0>)"
            ]
          },
          "metadata": {},
          "execution_count": 112
        }
      ]
    }
  ]
}