{
  "cells": [
    {
      "cell_type": "code",
      "execution_count": 1,
      "metadata": {
        "id": "5tKwam55rmVc"
      },
      "outputs": [],
      "source": [
        "# Importing necessary libraries\n",
        "import numpy as np\n",
        "import pandas as pd\n",
        "import torch\n",
        "from torch import nn\n",
        "from torch.nn import Sequential, Linear"
      ]
    },
    {
      "cell_type": "code",
      "execution_count": 2,
      "metadata": {
        "colab": {
          "base_uri": "https://localhost:8080/",
          "height": 273
        },
        "id": "RetpfPB3sR7X",
        "outputId": "5a0e9b7c-b29f-4fc6-e2aa-0853dfd0afbb"
      },
      "outputs": [
        {
          "data": {
            "text/html": [
              "<div>\n",
              "<style scoped>\n",
              "    .dataframe tbody tr th:only-of-type {\n",
              "        vertical-align: middle;\n",
              "    }\n",
              "\n",
              "    .dataframe tbody tr th {\n",
              "        vertical-align: top;\n",
              "    }\n",
              "\n",
              "    .dataframe thead th {\n",
              "        text-align: right;\n",
              "    }\n",
              "</style>\n",
              "<table border=\"1\" class=\"dataframe\">\n",
              "  <thead>\n",
              "    <tr style=\"text-align: right;\">\n",
              "      <th></th>\n",
              "      <th>diagnosis</th>\n",
              "      <th>radius_mean</th>\n",
              "      <th>texture_mean</th>\n",
              "      <th>perimeter_mean</th>\n",
              "      <th>area_mean</th>\n",
              "      <th>smoothness_mean</th>\n",
              "      <th>compactness_mean</th>\n",
              "      <th>concavity_mean</th>\n",
              "      <th>concave points_mean</th>\n",
              "      <th>symmetry_mean</th>\n",
              "      <th>...</th>\n",
              "      <th>radius_worst</th>\n",
              "      <th>texture_worst</th>\n",
              "      <th>perimeter_worst</th>\n",
              "      <th>area_worst</th>\n",
              "      <th>smoothness_worst</th>\n",
              "      <th>compactness_worst</th>\n",
              "      <th>concavity_worst</th>\n",
              "      <th>concave points_worst</th>\n",
              "      <th>symmetry_worst</th>\n",
              "      <th>fractal_dimension_worst</th>\n",
              "    </tr>\n",
              "  </thead>\n",
              "  <tbody>\n",
              "    <tr>\n",
              "      <th>0</th>\n",
              "      <td>M</td>\n",
              "      <td>17.99</td>\n",
              "      <td>10.38</td>\n",
              "      <td>122.80</td>\n",
              "      <td>1001.0</td>\n",
              "      <td>0.11840</td>\n",
              "      <td>0.27760</td>\n",
              "      <td>0.3001</td>\n",
              "      <td>0.14710</td>\n",
              "      <td>0.2419</td>\n",
              "      <td>...</td>\n",
              "      <td>25.38</td>\n",
              "      <td>17.33</td>\n",
              "      <td>184.60</td>\n",
              "      <td>2019.0</td>\n",
              "      <td>0.1622</td>\n",
              "      <td>0.6656</td>\n",
              "      <td>0.7119</td>\n",
              "      <td>0.2654</td>\n",
              "      <td>0.4601</td>\n",
              "      <td>0.11890</td>\n",
              "    </tr>\n",
              "    <tr>\n",
              "      <th>1</th>\n",
              "      <td>M</td>\n",
              "      <td>20.57</td>\n",
              "      <td>17.77</td>\n",
              "      <td>132.90</td>\n",
              "      <td>1326.0</td>\n",
              "      <td>0.08474</td>\n",
              "      <td>0.07864</td>\n",
              "      <td>0.0869</td>\n",
              "      <td>0.07017</td>\n",
              "      <td>0.1812</td>\n",
              "      <td>...</td>\n",
              "      <td>24.99</td>\n",
              "      <td>23.41</td>\n",
              "      <td>158.80</td>\n",
              "      <td>1956.0</td>\n",
              "      <td>0.1238</td>\n",
              "      <td>0.1866</td>\n",
              "      <td>0.2416</td>\n",
              "      <td>0.1860</td>\n",
              "      <td>0.2750</td>\n",
              "      <td>0.08902</td>\n",
              "    </tr>\n",
              "    <tr>\n",
              "      <th>2</th>\n",
              "      <td>M</td>\n",
              "      <td>19.69</td>\n",
              "      <td>21.25</td>\n",
              "      <td>130.00</td>\n",
              "      <td>1203.0</td>\n",
              "      <td>0.10960</td>\n",
              "      <td>0.15990</td>\n",
              "      <td>0.1974</td>\n",
              "      <td>0.12790</td>\n",
              "      <td>0.2069</td>\n",
              "      <td>...</td>\n",
              "      <td>23.57</td>\n",
              "      <td>25.53</td>\n",
              "      <td>152.50</td>\n",
              "      <td>1709.0</td>\n",
              "      <td>0.1444</td>\n",
              "      <td>0.4245</td>\n",
              "      <td>0.4504</td>\n",
              "      <td>0.2430</td>\n",
              "      <td>0.3613</td>\n",
              "      <td>0.08758</td>\n",
              "    </tr>\n",
              "    <tr>\n",
              "      <th>3</th>\n",
              "      <td>M</td>\n",
              "      <td>11.42</td>\n",
              "      <td>20.38</td>\n",
              "      <td>77.58</td>\n",
              "      <td>386.1</td>\n",
              "      <td>0.14250</td>\n",
              "      <td>0.28390</td>\n",
              "      <td>0.2414</td>\n",
              "      <td>0.10520</td>\n",
              "      <td>0.2597</td>\n",
              "      <td>...</td>\n",
              "      <td>14.91</td>\n",
              "      <td>26.50</td>\n",
              "      <td>98.87</td>\n",
              "      <td>567.7</td>\n",
              "      <td>0.2098</td>\n",
              "      <td>0.8663</td>\n",
              "      <td>0.6869</td>\n",
              "      <td>0.2575</td>\n",
              "      <td>0.6638</td>\n",
              "      <td>0.17300</td>\n",
              "    </tr>\n",
              "    <tr>\n",
              "      <th>4</th>\n",
              "      <td>M</td>\n",
              "      <td>20.29</td>\n",
              "      <td>14.34</td>\n",
              "      <td>135.10</td>\n",
              "      <td>1297.0</td>\n",
              "      <td>0.10030</td>\n",
              "      <td>0.13280</td>\n",
              "      <td>0.1980</td>\n",
              "      <td>0.10430</td>\n",
              "      <td>0.1809</td>\n",
              "      <td>...</td>\n",
              "      <td>22.54</td>\n",
              "      <td>16.67</td>\n",
              "      <td>152.20</td>\n",
              "      <td>1575.0</td>\n",
              "      <td>0.1374</td>\n",
              "      <td>0.2050</td>\n",
              "      <td>0.4000</td>\n",
              "      <td>0.1625</td>\n",
              "      <td>0.2364</td>\n",
              "      <td>0.07678</td>\n",
              "    </tr>\n",
              "  </tbody>\n",
              "</table>\n",
              "<p>5 rows × 31 columns</p>\n",
              "</div>"
            ],
            "text/plain": [
              "  diagnosis  radius_mean  texture_mean  perimeter_mean  area_mean  \\\n",
              "0         M        17.99         10.38          122.80     1001.0   \n",
              "1         M        20.57         17.77          132.90     1326.0   \n",
              "2         M        19.69         21.25          130.00     1203.0   \n",
              "3         M        11.42         20.38           77.58      386.1   \n",
              "4         M        20.29         14.34          135.10     1297.0   \n",
              "\n",
              "   smoothness_mean  compactness_mean  concavity_mean  concave points_mean  \\\n",
              "0          0.11840           0.27760          0.3001              0.14710   \n",
              "1          0.08474           0.07864          0.0869              0.07017   \n",
              "2          0.10960           0.15990          0.1974              0.12790   \n",
              "3          0.14250           0.28390          0.2414              0.10520   \n",
              "4          0.10030           0.13280          0.1980              0.10430   \n",
              "\n",
              "   symmetry_mean  ...  radius_worst  texture_worst  perimeter_worst  \\\n",
              "0         0.2419  ...         25.38          17.33           184.60   \n",
              "1         0.1812  ...         24.99          23.41           158.80   \n",
              "2         0.2069  ...         23.57          25.53           152.50   \n",
              "3         0.2597  ...         14.91          26.50            98.87   \n",
              "4         0.1809  ...         22.54          16.67           152.20   \n",
              "\n",
              "   area_worst  smoothness_worst  compactness_worst  concavity_worst  \\\n",
              "0      2019.0            0.1622             0.6656           0.7119   \n",
              "1      1956.0            0.1238             0.1866           0.2416   \n",
              "2      1709.0            0.1444             0.4245           0.4504   \n",
              "3       567.7            0.2098             0.8663           0.6869   \n",
              "4      1575.0            0.1374             0.2050           0.4000   \n",
              "\n",
              "   concave points_worst  symmetry_worst  fractal_dimension_worst  \n",
              "0                0.2654          0.4601                  0.11890  \n",
              "1                0.1860          0.2750                  0.08902  \n",
              "2                0.2430          0.3613                  0.08758  \n",
              "3                0.2575          0.6638                  0.17300  \n",
              "4                0.1625          0.2364                  0.07678  \n",
              "\n",
              "[5 rows x 31 columns]"
            ]
          },
          "execution_count": 2,
          "metadata": {},
          "output_type": "execute_result"
        }
      ],
      "source": [
        "# Loading Dataset\n",
        "df = pd.read_csv('https://raw.githubusercontent.com/gscdit/Breast-Cancer-Detection/refs/heads/master/data.csv')\n",
        "df.drop(columns=['id', 'Unnamed: 32'], inplace= True)\n",
        "df.head()"
      ]
    },
    {
      "cell_type": "code",
      "execution_count": 3,
      "metadata": {
        "id": "-7aDMJKgsWXb"
      },
      "outputs": [],
      "source": [
        "# Splitting the data\n",
        "from sklearn.model_selection import train_test_split\n",
        "X_train, X_test, y_train, y_test = train_test_split(df.iloc[:, 1:], df.iloc[:, 0], test_size=0.2)"
      ]
    },
    {
      "cell_type": "code",
      "execution_count": 4,
      "metadata": {
        "id": "opiKL-hFsc3h"
      },
      "outputs": [],
      "source": [
        "# Scaling\n",
        "from sklearn.preprocessing import StandardScaler\n",
        "scaler = StandardScaler()\n",
        "X_train = scaler.fit_transform(X_train)\n",
        "X_test = scaler.transform(X_test)"
      ]
    },
    {
      "cell_type": "code",
      "execution_count": 5,
      "metadata": {
        "id": "ET-Qp2Qtsiz1"
      },
      "outputs": [],
      "source": [
        "# Label Encoding\n",
        "from sklearn.preprocessing import LabelEncoder\n",
        "encoder = LabelEncoder()\n",
        "y_train = encoder.fit_transform(y_train)\n",
        "y_test = encoder.transform(y_test)"
      ]
    },
    {
      "cell_type": "code",
      "execution_count": 6,
      "metadata": {
        "id": "3fgEpO7bsoyg"
      },
      "outputs": [],
      "source": [
        "# Data loading class\n",
        "from torch.utils.data import Dataset, DataLoader\n",
        "\n",
        "class CustomDataset(Dataset):\n",
        "    def __init__(self, features, labels) -> None:\n",
        "        super().__init__()\n",
        "        self.features = torch.tensor(features, dtype = torch.float32)\n",
        "        self.labels = torch.tensor(labels, dtype = torch.long)\n",
        "\n",
        "    def __len__(self):\n",
        "        return self.features.shape[0]\n",
        "\n",
        "    def __getitem__(self, index):\n",
        "        return self.features[index], self.labels[index]"
      ]
    },
    {
      "cell_type": "code",
      "execution_count": 7,
      "metadata": {
        "id": "yHk7I4RXt128"
      },
      "outputs": [],
      "source": [
        "# Creating an object\n",
        "train_dataset = CustomDataset(X_train, y_train)\n",
        "test_dataset = CustomDataset(X_test, y_test)\n",
        "\n",
        "# Data Loaders\n",
        "train_loader = DataLoader(dataset = train_dataset, batch_size = 32, shuffle = True, pin_memory = True)\n",
        "test_loader = DataLoader(dataset = test_dataset, batch_size = 32, shuffle = True, pin_memory = True)"
      ]
    },
    {
      "cell_type": "code",
      "execution_count": 8,
      "metadata": {
        "id": "nGTw0og6u0O7"
      },
      "outputs": [],
      "source": [
        "import torch.nn.init as init # Used to initialize the parameters\n",
        "class CustomModel(nn.Module):\n",
        "    def __init__(self, num_features):\n",
        "        super().__init__()\n",
        "        self.network = nn.Sequential(\n",
        "            # Just trying multiple activation functions\n",
        "            nn.Linear(in_features = num_features, out_features = 128),\n",
        "            nn.LeakyReLU(negative_slope = 0.01),\n",
        "\n",
        "            nn.Linear(in_features = 128, out_features = 64),\n",
        "            nn.ELU(alpha = 1),\n",
        "\n",
        "            nn.Linear(in_features = 64, out_features = 32),\n",
        "            nn.PReLU(num_parameters = 1, init = 0.25),\n",
        "\n",
        "            nn.Linear(in_features = 32, out_features = 10),\n",
        "            nn.Sigmoid()\n",
        "        )\n",
        "\n",
        "    def initialize_weights(self, layer):\n",
        "        if isinstance(layer, nn.Linear):\n",
        "            # init contains utilities for initializing the weights\n",
        "            init.xavier_normal_(layer.weight) # xavier normal initialization - Inplace operation\n",
        "        elif isinstance(layer, nn.Conv2d):\n",
        "            init.kaiming_normal_(layer.weight, mode='fan_in', nonlinearity='relu') # He Initialization\n",
        "\n",
        "    def forward(self, X):\n",
        "        self.network.apply(self.initialize_weights)\n",
        "        return self.network(X)"
      ]
    },
    {
      "cell_type": "code",
      "execution_count": 9,
      "metadata": {
        "id": "sMmjaUzpyf_z"
      },
      "outputs": [],
      "source": [
        "# Compiling Model\n",
        "learning_rate = 0.01\n",
        "epochs = 10\n",
        "\n",
        "# Model Object\n",
        "model = CustomModel(num_features = X_train.shape[1])\n",
        "\n",
        "# Defining Loss Function\n",
        "criterion = nn.CrossEntropyLoss()\n",
        "\n",
        "# Optimizer\n",
        "optimizer = torch.optim.Adam(params = model.parameters(), lr = learning_rate)"
      ]
    },
    {
      "cell_type": "code",
      "execution_count": 10,
      "metadata": {
        "colab": {
          "base_uri": "https://localhost:8080/"
        },
        "id": "UnJlSIzEYxgF",
        "outputId": "bba579db-31d0-4fa5-bb84-48f7d88ae0d3"
      },
      "outputs": [
        {
          "name": "stdout",
          "output_type": "stream",
          "text": [
            "Epoch: 1 , Loss: 2.2993642330169677\n",
            "Epoch: 2 , Loss: 2.2366551558176675\n",
            "Epoch: 3 , Loss: 2.184143813451131\n",
            "Epoch: 4 , Loss: 2.1150835434595745\n",
            "Epoch: 5 , Loss: 2.081625970204671\n",
            "Epoch: 6 , Loss: 2.0460004091262816\n",
            "Epoch: 7 , Loss: 1.9759919087092082\n",
            "Epoch: 8 , Loss: 1.9380910317103068\n",
            "Epoch: 9 , Loss: 1.928854481379191\n",
            "Epoch: 10 , Loss: 1.8939714670181274\n"
          ]
        }
      ],
      "source": [
        "# Training Loop\n",
        "for epoch in range(epochs):\n",
        "    total_epoch_loss = 0\n",
        "\n",
        "    for batch_features, batch_labels in train_loader:\n",
        "        # Forward pass\n",
        "        y_pred = model(batch_features)\n",
        "\n",
        "        # Calculate loss\n",
        "        loss = criterion(y_pred, batch_labels)\n",
        "\n",
        "        # Zero Gradients\n",
        "        optimizer.zero_grad()\n",
        "\n",
        "        # Backward pass\n",
        "        loss.backward()\n",
        "\n",
        "        # Update Weights\n",
        "        optimizer.step()\n",
        "\n",
        "        # Epoch loss\n",
        "        total_epoch_loss += loss.item()\n",
        "\n",
        "    avg_loss = total_epoch_loss/len(train_loader)\n",
        "    print(f'Epoch: {epoch + 1} , Loss: {avg_loss}')"
      ]
    },
    {
      "cell_type": "code",
      "execution_count": 11,
      "metadata": {
        "colab": {
          "base_uri": "https://localhost:8080/"
        },
        "id": "YYSFFqL0bRi7",
        "outputId": "2ea799cf-cfca-4471-9cca-ef1cccbcc3ff"
      },
      "outputs": [
        {
          "data": {
            "text/plain": [
              "CustomModel(\n",
              "  (network): Sequential(\n",
              "    (0): Linear(in_features=30, out_features=128, bias=True)\n",
              "    (1): LeakyReLU(negative_slope=0.01)\n",
              "    (2): Linear(in_features=128, out_features=64, bias=True)\n",
              "    (3): ELU(alpha=1)\n",
              "    (4): Linear(in_features=64, out_features=32, bias=True)\n",
              "    (5): PReLU(num_parameters=1)\n",
              "    (6): Linear(in_features=32, out_features=10, bias=True)\n",
              "    (7): Sigmoid()\n",
              "  )\n",
              ")"
            ]
          },
          "execution_count": 11,
          "metadata": {},
          "output_type": "execute_result"
        }
      ],
      "source": [
        "model.eval()"
      ]
    },
    {
      "cell_type": "code",
      "execution_count": null,
      "metadata": {
        "colab": {
          "base_uri": "https://localhost:8080/"
        },
        "id": "_1IiBOhObvV7",
        "outputId": "54801bef-fe7d-4593-e5ff-562032eb7ca3"
      },
      "outputs": [
        {
          "data": {
            "text/plain": [
              "tensor(0.8333)"
            ]
          },
          "execution_count": 13,
          "metadata": {},
          "output_type": "execute_result"
        }
      ],
      "source": [
        "# Evaluating on Test Data - Demo\n",
        "from torch import tensor\n",
        "from torchmetrics.classification import MulticlassAccuracy\n",
        "target = tensor([2, 1, 0, 0])\n",
        "preds = tensor([2, 1, 0, 1])\n",
        "metric = MulticlassAccuracy(num_classes=3)\n",
        "metric(preds, target)"
      ]
    },
    {
      "cell_type": "code",
      "execution_count": 14,
      "metadata": {
        "colab": {
          "base_uri": "https://localhost:8080/"
        },
        "id": "kk11aPcHc8II",
        "outputId": "b41a22e9-23ce-437b-d358-39f5bcca0f68"
      },
      "outputs": [
        {
          "data": {
            "text/plain": [
              "tensor([0.5000, 1.0000, 1.0000])"
            ]
          },
          "execution_count": 14,
          "metadata": {},
          "output_type": "execute_result"
        }
      ],
      "source": [
        "mca = MulticlassAccuracy(num_classes=3, average=None)\n",
        "mca(preds, target)"
      ]
    },
    {
      "cell_type": "code",
      "execution_count": 15,
      "metadata": {
        "colab": {
          "base_uri": "https://localhost:8080/"
        },
        "id": "OT-rCikadZTf",
        "outputId": "4b468b14-6596-496a-b006-94c40438879f"
      },
      "outputs": [
        {
          "name": "stdout",
          "output_type": "stream",
          "text": [
            "tensor(0.6123)\n"
          ]
        }
      ],
      "source": [
        "# Evaluating on Test Data\n",
        "accuracy = []\n",
        "with torch.no_grad():\n",
        "    for batch_features, batch_labels in test_loader:\n",
        "        y_pred = model(batch_features)\n",
        "        _, predicted = torch.max(y_pred, 1)\n",
        "        metric = MulticlassAccuracy(num_classes = 3)\n",
        "        accuracy.append(metric(predicted, batch_labels))\n",
        "print(sum(accuracy) / len(accuracy))"
      ]
    }
  ],
  "metadata": {
    "colab": {
      "provenance": []
    },
    "kernelspec": {
      "display_name": "myenv",
      "language": "python",
      "name": "python3"
    },
    "language_info": {
      "codemirror_mode": {
        "name": "ipython",
        "version": 3
      },
      "file_extension": ".py",
      "mimetype": "text/x-python",
      "name": "python",
      "nbconvert_exporter": "python",
      "pygments_lexer": "ipython3",
      "version": "3.13.7"
    }
  },
  "nbformat": 4,
  "nbformat_minor": 0
}
